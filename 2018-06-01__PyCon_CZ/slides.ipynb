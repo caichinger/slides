{
 "cells": [
  {
   "cell_type": "markdown",
   "metadata": {
    "slideshow": {
     "slide_type": "slide"
    }
   },
   "source": [
    "<img src=\"img/opening.png\" alt=\"Opening Slide\" width=\"100%\">"
   ]
  },
  {
   "cell_type": "markdown",
   "metadata": {
    "slideshow": {
     "slide_type": "slide"
    }
   },
   "source": [
    "### Dunder what?\n",
    "\n",
    "#### Dunder Method = <font color=\"red\">D</font>ouble <font color=\"red\">under</font>score Method aka Special Method\n",
    "\n",
    "> **[3.3. Special method names](https://docs.python.org/3/reference/datamodel.html#special-method-names)**\n",
    ">\n",
    "> A class can implement certain operations that are invoked by special syntax (such as arithmetic operations or subscripting and slicing) by defining methods with special names. This is Python’s approach to *operator overloading*, **allowing classes to define their own behavior with respect to language operators**. For instance, if a class defines a method named `__getitem__()`, and `x` is an instance of this class, then `x[i]` is roughly equivalent to `type(x).__getitem__(x, i)`. "
   ]
  },
  {
   "cell_type": "markdown",
   "metadata": {
    "slideshow": {
     "slide_type": "slide"
    }
   },
   "source": [
    "### Why Containers/Collections?\n",
    "\n",
    "- Essential part of every program\n",
    "\n",
    "\n",
    "- Greatly influence design\n",
    "\n",
    "\n",
    "\n",
    "### What we Focus on?\n",
    "\n",
    "- Representing Data: How to come up with a container?\n",
    "\n",
    "\n",
    "- Mimicking built-ins: How to implemented well-known interfaces?\n",
    "\n",
    "\n",
    "#### Aim\n",
    "\n",
    "- No meta programming\n",
    "\n",
    "\n",
    "- Learn about (and embrace) a few dunder methods\n",
    "\n",
    "\n",
    "- Simple approaches, i.e. the next non-trivial step after using a built-in.\n",
    "\n",
    "\n",
    "\n",
    "\n"
   ]
  },
  {
   "cell_type": "markdown",
   "metadata": {
    "slideshow": {
     "slide_type": "slide"
    }
   },
   "source": [
    "### What is a `container`?\n",
    "... an object that holds other objects"
   ]
  },
  {
   "cell_type": "code",
   "execution_count": 1,
   "metadata": {
    "slideshow": {
     "slide_type": "fragment"
    }
   },
   "outputs": [
    {
     "data": {
      "text/plain": [
       "True"
      ]
     },
     "execution_count": 1,
     "metadata": {},
     "output_type": "execute_result"
    }
   ],
   "source": [
    "a_list = [1, 2, 3]\n",
    "2 in a_list"
   ]
  },
  {
   "cell_type": "code",
   "execution_count": 2,
   "metadata": {
    "slideshow": {
     "slide_type": "fragment"
    }
   },
   "outputs": [
    {
     "data": {
      "text/plain": [
       "True"
      ]
     },
     "execution_count": 2,
     "metadata": {},
     "output_type": "execute_result"
    }
   ],
   "source": [
    "a_list.__contains__(2)"
   ]
  },
  {
   "cell_type": "code",
   "execution_count": 3,
   "metadata": {
    "slideshow": {
     "slide_type": "slide"
    }
   },
   "outputs": [
    {
     "data": {
      "text/plain": [
       "True"
      ]
     },
     "execution_count": 3,
     "metadata": {},
     "output_type": "execute_result"
    }
   ],
   "source": [
    "def is_container(something):\n",
    "    return hasattr(something, '__contains__')\n",
    "\n",
    "is_container(a_list)"
   ]
  },
  {
   "cell_type": "code",
   "execution_count": 4,
   "metadata": {
    "slideshow": {
     "slide_type": "fragment"
    }
   },
   "outputs": [
    {
     "data": {
      "text/plain": [
       "True"
      ]
     },
     "execution_count": 4,
     "metadata": {},
     "output_type": "execute_result"
    }
   ],
   "source": [
    "# better:\n",
    "from collections.abc import Container\n",
    "\n",
    "def is_container(obj):\n",
    "    return isinstance(obj, Container)\n",
    "\n",
    "is_container(a_list)"
   ]
  },
  {
   "cell_type": "markdown",
   "metadata": {
    "slideshow": {
     "slide_type": "slide"
    }
   },
   "source": [
    "### What is a `collection`?\n",
    "... a sized, iterable container"
   ]
  },
  {
   "cell_type": "code",
   "execution_count": 5,
   "metadata": {
    "slideshow": {
     "slide_type": "fragment"
    }
   },
   "outputs": [
    {
     "data": {
      "text/plain": [
       "(3, 3)"
      ]
     },
     "execution_count": 5,
     "metadata": {},
     "output_type": "execute_result"
    }
   ],
   "source": [
    "a_list = [1, 2, 3]\n",
    "len(a_list), a_list.__len__()"
   ]
  },
  {
   "cell_type": "code",
   "execution_count": 6,
   "metadata": {
    "slideshow": {
     "slide_type": "fragment"
    }
   },
   "outputs": [
    {
     "name": "stdout",
     "output_type": "stream",
     "text": [
      "1\n",
      "2\n",
      "3\n"
     ]
    }
   ],
   "source": [
    "for item in a_list:\n",
    "    print(item)"
   ]
  },
  {
   "cell_type": "code",
   "execution_count": 7,
   "metadata": {
    "slideshow": {
     "slide_type": "slide"
    }
   },
   "outputs": [
    {
     "data": {
      "text/plain": [
       "True"
      ]
     },
     "execution_count": 7,
     "metadata": {},
     "output_type": "execute_result"
    }
   ],
   "source": [
    "def is_collection(obj):\n",
    "    return (is_container(obj) \n",
    "            and hasattr(obj, '__len__') \n",
    "            and hasattr(obj, '__iter__'))\n",
    "\n",
    "is_collection(a_list)"
   ]
  },
  {
   "cell_type": "code",
   "execution_count": 8,
   "metadata": {
    "slideshow": {
     "slide_type": "fragment"
    }
   },
   "outputs": [
    {
     "data": {
      "text/plain": [
       "True"
      ]
     },
     "execution_count": 8,
     "metadata": {},
     "output_type": "execute_result"
    }
   ],
   "source": [
    "# better:\n",
    "from collections.abc import Collection\n",
    "\n",
    "def is_collection(something):\n",
    "    return isinstance(something, Collection)\n",
    "\n",
    "is_collection(a_list)"
   ]
  },
  {
   "cell_type": "markdown",
   "metadata": {
    "slideshow": {
     "slide_type": "slide"
    }
   },
   "source": [
    "### What kind of Containers/Collections are there?\n",
    "\n",
    "#### [`collections` — Container datatypes](https://docs.python.org/3/library/collections.html)\n",
    "\n",
    "Quite some...\n",
    "\n",
    "If you do not know them already, take a look at:\n",
    "- `defaultdict`\n",
    "- `Counter`\n",
    "- `deque`"
   ]
  },
  {
   "cell_type": "markdown",
   "metadata": {
    "slideshow": {
     "slide_type": "slide"
    }
   },
   "source": [
    "## Representing Data\n",
    "\n",
    "### Example: \"PyCon CZ participant survey\"\n",
    "\n",
    "Questions:\n",
    "- Do you like PyCon CZ?\n",
    "- Do you go to the party?\n",
    "- GDPR-related: do you opt-in?\n",
    "\n",
    "Let's model the response to these questions"
   ]
  },
  {
   "cell_type": "code",
   "execution_count": 9,
   "metadata": {
    "slideshow": {
     "slide_type": "fragment"
    }
   },
   "outputs": [
    {
     "data": {
      "text/plain": [
       "(True, True, True)"
      ]
     },
     "execution_count": 9,
     "metadata": {},
     "output_type": "execute_result"
    }
   ],
   "source": [
    "# the obvious way\n",
    "result = (True, True, True)\n",
    "result"
   ]
  },
  {
   "cell_type": "markdown",
   "metadata": {
    "slideshow": {
     "slide_type": "slide"
    }
   },
   "source": [
    "#### Discussion\n",
    "\n",
    "##### Pro\n",
    "\n",
    "- It works!\n",
    "\n",
    "- `tuple()` is good because:\n",
    "  - immutability\n",
    "  - cheap (memory efficient `__slots__`)\n",
    "  "
   ]
  },
  {
   "cell_type": "markdown",
   "metadata": {
    "slideshow": {
     "slide_type": "fragment"
    }
   },
   "source": [
    "#### Con\n",
    "\n",
    "- `(True, True, True)` does not hold any meaning\n",
    "\n",
    "- What if:\n",
    "  - We want to support defaults?\n",
    "  - Validate input?"
   ]
  },
  {
   "cell_type": "markdown",
   "metadata": {
    "slideshow": {
     "slide_type": "fragment"
    }
   },
   "source": [
    "> **You Ain't Gonna Need It** vs. not self explaining / too primitive"
   ]
  },
  {
   "cell_type": "markdown",
   "metadata": {
    "slideshow": {
     "slide_type": "slide"
    }
   },
   "source": [
    "## *Let's take the next non-trivial step...*"
   ]
  },
  {
   "cell_type": "markdown",
   "metadata": {
    "slideshow": {
     "slide_type": "slide"
    }
   },
   "source": [
    "### Summary\n",
    "\n",
    "- Ideally, a data structure \n",
    "\n",
    "  - is self explaining\n",
    "  - aids the development process\n",
    "  - helps you model your problem\n",
    "\n",
    "\n",
    "- Custom containers allow you to\n",
    "  - convey meaning\n",
    "  - add functionality when needed\n",
    "  - use  default arguments and input validation\n",
    "  - use type hints & static type checking\n",
    "\n",
    "\n",
    "- Provide at least `__repr__` (and `__str__`) and `__doc__`.\n",
    "\n",
    "\n",
    "- **`namedtuple`** may be a pragmatic way to start"
   ]
  },
  {
   "cell_type": "markdown",
   "metadata": {
    "slideshow": {
     "slide_type": "slide"
    }
   },
   "source": [
    "### Links\n",
    "\n",
    "- [`collections` Container datatypes](https://docs.python.org/3/library/collections.html)\n",
    "\n",
    "\n",
    "- [`collections.abc`](https://docs.python.org/3/library/collections.abc.html)\n",
    "\n",
    "\n",
    "- [Data Classes](https://github.com/ericvsmith/dataclasses)\n",
    "  - [PEP 557 -- Data Classes](https://www.python.org/dev/peps/pep-0557/), to be included in Python 3.7 \n",
    "  - Python 3.6: `pip install dataclasses`\n",
    "\n",
    "- [attrs: Classes Without Boilerplate](http://www.attrs.org/)\n",
    "\n",
    "---\n",
    "\n",
    "- [Jack Dietrich, Stop Writing Classes](https://www.youtube.com/watch?v=o9pEzgHorH0)"
   ]
  },
  {
   "cell_type": "markdown",
   "metadata": {
    "slideshow": {
     "slide_type": "slide"
    }
   },
   "source": [
    "## Mimicking Built-Ins\n",
    "\n",
    "### Example: Data Processing\n",
    "\n",
    "We want to process a bunch of files:\n",
    "\n",
    "![Process Description](img/mapping.png)"
   ]
  },
  {
   "cell_type": "markdown",
   "metadata": {
    "slideshow": {
     "slide_type": "slide"
    }
   },
   "source": [
    "### How to provide a simple, easy-to-understand data interface?\n",
    "... by glueing above elements together\n",
    "\n",
    "- Separate <font color=\"red\">data handling</font> and <font color=\"blue\">data processing</font>\n"
   ]
  },
  {
   "cell_type": "markdown",
   "metadata": {
    "slideshow": {
     "slide_type": "fragment"
    }
   },
   "source": [
    "## *Let's take the next non-trivial step...*"
   ]
  },
  {
   "cell_type": "markdown",
   "metadata": {
    "slideshow": {
     "slide_type": "slide"
    }
   },
   "source": [
    "### Summary\n",
    "\n",
    "Basically:\n",
    "\n",
    "```Python \n",
    "from collections.abc import SuitableCollection\n",
    "\n",
    "class MyCollection(SuitableCollection):\n",
    "    ...\n",
    "```\n",
    "\n",
    "- Mimic behavior by inheriting from suitable ABC (and related methods are derived from base methods)\n",
    "\n",
    "\n",
    "- Direct implementation may be more efficient\n",
    "\n",
    "\n",
    "- Sensible to test against interface instead of type\n",
    "\n",
    "\n",
    "### Links\n",
    "\n",
    "- Directly subclassing a built-in can be tricky, you may consider e.g. [`userlist`](https://docs.python.org/3/library/collections.html#collections.UserList) or [`userdict`](https://docs.python.org/3/library/collections.html#collections.UserDict)\n",
    "\n",
    "\n",
    "- [dask/zict: Useful Mutable Mappings](https://github.com/dask/zict)"
   ]
  },
  {
   "cell_type": "markdown",
   "metadata": {
    "slideshow": {
     "slide_type": "slide"
    }
   },
   "source": [
    "<img src=\"img/closing.png\" alt=\"Closing Slide\" width=\"100%\">"
   ]
  },
  {
   "cell_type": "code",
   "execution_count": null,
   "metadata": {},
   "outputs": [],
   "source": []
  }
 ],
 "metadata": {
  "celltoolbar": "Slideshow",
  "hide_input": false,
  "kernelspec": {
   "display_name": "Python 3",
   "language": "python",
   "name": "python3"
  },
  "language_info": {
   "codemirror_mode": {
    "name": "ipython",
    "version": 3
   },
   "file_extension": ".py",
   "mimetype": "text/x-python",
   "name": "python",
   "nbconvert_exporter": "python",
   "pygments_lexer": "ipython3",
   "version": "3.6.5"
  }
 },
 "nbformat": 4,
 "nbformat_minor": 2
}
