{
 "cells": [
  {
   "cell_type": "markdown",
   "metadata": {},
   "source": [
    "### Data Handling"
   ]
  },
  {
   "cell_type": "code",
   "execution_count": 1,
   "metadata": {},
   "outputs": [],
   "source": [
    "import glob\n",
    "import shutil\n",
    "import os\n",
    "\n",
    "import pandas as pd"
   ]
  },
  {
   "cell_type": "code",
   "execution_count": 2,
   "metadata": {},
   "outputs": [],
   "source": [
    "# preparations\n",
    "folder_in = './raw'\n",
    "folder_out = folder_in.replace('raw', 'processed')\n",
    "name_pattern = '*.csv'\n",
    "\n",
    "os.makedirs(folder_in, exist_ok=True)\n",
    "shutil.rmtree(folder_out, ignore_errors=True)\n",
    "os.makedirs(folder_out, exist_ok=True)"
   ]
  },
  {
   "cell_type": "code",
   "execution_count": 3,
   "metadata": {},
   "outputs": [],
   "source": [
    "# fake up some data\n",
    "df = pd.DataFrame({'a': [0, 1], 'b': [10, 11]})\n",
    "\n",
    "names = ['file1', 'file2']\n",
    "\n",
    "for i, name in enumerate(names):\n",
    "    df_i = df.copy() + i\n",
    "    path = os.path.join(folder_in, name_pattern.replace('*', name))\n",
    "    df_i.to_csv(path)"
   ]
  },
  {
   "cell_type": "code",
   "execution_count": 4,
   "metadata": {},
   "outputs": [],
   "source": [
    "def extract_key(path):\n",
    "    return os.path.splitext(os.path.basename(path))[0]"
   ]
  },
  {
   "cell_type": "code",
   "execution_count": 5,
   "metadata": {},
   "outputs": [],
   "source": [
    "def create_path_mapping(folder_in, folder_out, name_pattern):\n",
    "    \n",
    "    path_mapping = {}\n",
    "    paths_in = glob.glob(os.path.join(folder_in, name_pattern))\n",
    "    for path_in in paths_in:\n",
    "        key = extract_key(path_in)\n",
    "        path_out = os.path.join(folder_out, os.path.basename(path_in))\n",
    "        path_mapping[key] = {'in': path_in, 'out': path_out}\n",
    "\n",
    "    return path_mapping"
   ]
  },
  {
   "cell_type": "markdown",
   "metadata": {},
   "source": [
    "#### <font color=\"red\">How to map the data?</font>"
   ]
  },
  {
   "cell_type": "code",
   "execution_count": 6,
   "metadata": {},
   "outputs": [
    {
     "data": {
      "text/plain": [
       "{'file2': {'in': './raw/file2.csv', 'out': './processed/file2.csv'},\n",
       " 'file1': {'in': './raw/file1.csv', 'out': './processed/file1.csv'}}"
      ]
     },
     "execution_count": 6,
     "metadata": {},
     "output_type": "execute_result"
    }
   ],
   "source": [
    "path_mapping = create_path_mapping(folder_in, folder_out, name_pattern)\n",
    "path_mapping"
   ]
  },
  {
   "cell_type": "markdown",
   "metadata": {},
   "source": [
    "#### <font color=\"red\">How to load the data?</font>"
   ]
  },
  {
   "cell_type": "code",
   "execution_count": 7,
   "metadata": {},
   "outputs": [],
   "source": [
    "def load(path):\n",
    "    return pd.read_csv(path, index_col=0)    "
   ]
  },
  {
   "cell_type": "markdown",
   "metadata": {},
   "source": [
    "#### <font color=\"red\">How to write the data?</font>"
   ]
  },
  {
   "cell_type": "code",
   "execution_count": 8,
   "metadata": {},
   "outputs": [],
   "source": [
    "def write(df, path):\n",
    "    df.to_csv(path)"
   ]
  },
  {
   "cell_type": "markdown",
   "metadata": {},
   "source": [
    "### Provide a simple, easy-to-understand data interface\n",
    "... by glueing above elements together"
   ]
  },
  {
   "cell_type": "code",
   "execution_count": 9,
   "metadata": {},
   "outputs": [],
   "source": [
    "from collections.abc import MutableMapping"
   ]
  },
  {
   "cell_type": "code",
   "execution_count": 10,
   "metadata": {},
   "outputs": [],
   "source": [
    "class DataMapping(MutableMapping):\n",
    "    \"\"\"\n",
    "    Docstring\n",
    "    \"\"\"\n",
    "    def __init__(self, path_mapping, load, write):\n",
    "        self.path_mapping = path_mapping\n",
    "        self.load = load\n",
    "        self.write = write\n",
    "    def __getitem__(self, key):\n",
    "        return self.load(self.path_mapping[key]['in'])\n",
    "    def __setitem__(self, key, value):\n",
    "        self.write(value, self.path_mapping[key]['out'])\n",
    "    def __len__(self):\n",
    "        return len(self.path_mapping)\n",
    "    def __iter__(self):\n",
    "        # For mappings, it should iterate over the keys of the container.\n",
    "        return iter(self.path_mapping)\n",
    "    def __delitem__(self):\n",
    "        pass\n",
    "    def __repr__(self):\n",
    "        return f'{type(self).__name__}({self.path_mapping})'"
   ]
  },
  {
   "cell_type": "code",
   "execution_count": 11,
   "metadata": {},
   "outputs": [
    {
     "data": {
      "text/plain": [
       "DataMapping({'file2': {'in': './raw/file2.csv', 'out': './processed/file2.csv'}, 'file1': {'in': './raw/file1.csv', 'out': './processed/file1.csv'}})"
      ]
     },
     "execution_count": 11,
     "metadata": {},
     "output_type": "execute_result"
    }
   ],
   "source": [
    "dm = DataMapping(path_mapping, load, write)\n",
    "dm"
   ]
  },
  {
   "cell_type": "code",
   "execution_count": 12,
   "metadata": {},
   "outputs": [
    {
     "data": {
      "text/plain": [
       "['file2', 'file1']"
      ]
     },
     "execution_count": 12,
     "metadata": {},
     "output_type": "execute_result"
    }
   ],
   "source": [
    "list(dm.keys())"
   ]
  },
  {
   "cell_type": "code",
   "execution_count": 13,
   "metadata": {},
   "outputs": [],
   "source": [
    "for key, df in dm.items():\n",
    "    df_new = 42 * df\n",
    "    dm[key] = df_new"
   ]
  },
  {
   "cell_type": "code",
   "execution_count": null,
   "metadata": {},
   "outputs": [],
   "source": []
  }
 ],
 "metadata": {
  "kernelspec": {
   "display_name": "Python 3",
   "language": "python",
   "name": "python3"
  },
  "language_info": {
   "codemirror_mode": {
    "name": "ipython",
    "version": 3
   },
   "file_extension": ".py",
   "mimetype": "text/x-python",
   "name": "python",
   "nbconvert_exporter": "python",
   "pygments_lexer": "ipython3",
   "version": "3.6.5"
  }
 },
 "nbformat": 4,
 "nbformat_minor": 2
}
