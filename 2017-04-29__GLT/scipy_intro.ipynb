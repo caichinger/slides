{
 "cells": [
  {
   "cell_type": "markdown",
   "metadata": {
    "deletable": true,
    "editable": true,
    "slideshow": {
     "slide_type": "skip"
    }
   },
   "source": [
    "`jupyter nbconvert scipy_intro.ipynb --to slides --post serve`"
   ]
  },
  {
   "cell_type": "markdown",
   "metadata": {
    "deletable": true,
    "editable": true,
    "slideshow": {
     "slide_type": "slide"
    }
   },
   "source": [
    "<center>\n",
    "  <header>\n",
    "    <h1>Python for Mathematics, Science and Engineering</h1>\n",
    "    <h3>Eine Einführung in das Scientific Computing Ökosystem</h3>\n",
    "  </header>\n",
    "\n",
    "<br>\n",
    "<br>\n",
    "Grazer Linuxtage, 2017-04-29\n",
    "<br>\n",
    "claus.aichinger@gmail.com\n",
    "</center>"
   ]
  },
  {
   "cell_type": "markdown",
   "metadata": {
    "deletable": true,
    "editable": true,
    "slideshow": {
     "slide_type": "slide"
    }
   },
   "source": [
    "#### Claus Aichinger\n",
    "- Data Scientist / Freelancer / Trainer\n",
    "- Scientific Computing with Python\n",
    "    - (Statistical) Modeling\n",
    "    - Data Analysis &  Visualization\n",
    "    - Numerical Algorithms\n",
    "- https://pydays.at/"
   ]
  },
  {
   "cell_type": "markdown",
   "metadata": {
    "deletable": true,
    "editable": true,
    "slideshow": {
     "slide_type": "fragment"
    }
   },
   "source": [
    "#### Dieser Vortrag\n",
    "- richtet sich an (Neu)EinsteigerInnen\n",
    "- gibt einen Überblick zum Scientific Stack in Python"
   ]
  },
  {
   "cell_type": "markdown",
   "metadata": {
    "deletable": true,
    "editable": true,
    "slideshow": {
     "slide_type": "slide"
    }
   },
   "source": [
    "#### SciPy - Scientific Python - Python's Scientific Stack...\n",
    "\n",
    "- Warum verwenden?\n",
    "\n",
    "- Was ist das überhaupt?\n",
    "\n",
    "- Wie fange ich an bzw. was für Tools gibt es?\n",
    "\n",
    "- Zwei Beispiele:\n",
    "  - Datenanalyse\n",
    "  - Modellierung"
   ]
  },
  {
   "cell_type": "markdown",
   "metadata": {
    "deletable": true,
    "editable": true,
    "slideshow": {
     "slide_type": "slide"
    }
   },
   "source": [
    "#### Warum Scientific Computing mit Python?\n",
    "\n",
    "Jim Hugunin, creater of Numeric (NumPy ancestor) and Jython:\n",
    "> (Matlab) is a wonderful language for a wide range numerical analyses; however, it is a terrible language in which to do anything else.\n",
    "\n"
   ]
  },
  {
   "cell_type": "markdown",
   "metadata": {
    "deletable": true,
    "editable": true,
    "slideshow": {
     "slide_type": "fragment"
    }
   },
   "source": [
    "- Open Source, Cross-Platform\n",
    "\n",
    "- Ausgereifte und umfassende Bibliotheken für viele Anwendungsfälle\n",
    "\n",
    "- Rapid Prototyping, Scripting\n",
    "\n",
    "- Tools/Konventionen die Softwareentwicklung erleichtern (pep8, pylint, pytest, tox, sphinx, ...)\n",
    "\n",
    "- Mögliche Alternative zu [MATLAB](https://de.mathworks.com/products/matlab/) oder [R](http://www.r-project.org/)\n",
    "\n",
    "- Python **ist** eine universelle Hochsprache."
   ]
  },
  {
   "cell_type": "markdown",
   "metadata": {
    "deletable": true,
    "editable": true,
    "slideshow": {
     "slide_type": "skip"
    }
   },
   "source": [
    "> ***\"the right tool for the job\"***"
   ]
  },
  {
   "cell_type": "markdown",
   "metadata": {
    "deletable": true,
    "editable": true,
    "slideshow": {
     "slide_type": "slide"
    }
   },
   "source": [
    "#### Warum Scientific Computing mit Python?\n",
    "\n",
    "- Welchen Platz nimmt Scientific Python im Python Ökosystem ein?\n",
    "\n",
    "- Wer verwendet Python für wissenschaftliceh Anwendungen?"
   ]
  },
  {
   "cell_type": "markdown",
   "metadata": {
    "deletable": true,
    "editable": true,
    "slideshow": {
     "slide_type": "slide"
    }
   },
   "source": [
    "#### Warum Scientific Computing mit Python? Stellenwert im Ökosystem:\n",
    "\n",
    "##### PyPI, Python Package Index\n",
    "\n",
    "2017-04-29 ~08:00:\n",
    "\n",
    "> The Python Package Index is a repository of software for the Python programming language. There are currently **106990 packages** here. \n",
    "\n",
    "**Frage:**\n",
    "Wieviele davon für Scientific Computing? \n",
    "\n",
    "**Hinweis:**\n",
    "- Packages werde mit Hilfe von *classifiers* beschrieben.\n",
    "- Das Feld *Topic* gibt das Themengebiet an:\n",
    "    - Communications\n",
    "    - Internet\n",
    "    - ... \n",
    "    - Scientific/Engineering"
   ]
  },
  {
   "cell_type": "markdown",
   "metadata": {
    "deletable": true,
    "editable": true,
    "slideshow": {
     "slide_type": "slide"
    }
   },
   "source": [
    "```\n",
    "Topic :: Adaptive Technologies\n",
    "Topic :: Artistic Software\n",
    "Topic :: Communications\n",
    "Topic :: Communications :: BBS\n",
    "Topic :: Communications :: Chat\n",
    "Topic :: Communications :: Chat :: AOL Instant Messenger\n",
    "Topic :: Communications :: Chat :: ICQ\n",
    "Topic :: Communications :: Chat :: Internet Relay Chat\n",
    "Topic :: Communications :: Chat :: Unix Talk\n",
    "Topic :: Communications :: Conferencing\n",
    "Topic :: Communications :: Email\n",
    "Topic :: Communications :: Email :: Address Book\n",
    "Topic :: Communications :: Email :: Email Clients (MUA)\n",
    "Topic :: Communications :: Email :: Filters\n",
    "Topic :: Communications :: Email :: Mailing List Servers\n",
    "Topic :: Communications :: Email :: Mail Transport Agents\n",
    "Topic :: Communications :: Email :: Post-Office\n",
    "Topic :: Communications :: Email :: Post-Office :: IMAP\n",
    "Topic :: Communications :: Email :: Post-Office :: POP3\n",
    "Topic :: Communications :: Fax\n",
    "Topic :: Communications :: FIDO\n",
    "Topic :: Communications :: File Sharing\n",
    "Topic :: Communications :: File Sharing :: Gnutella\n",
    "Topic :: Communications :: File Sharing :: Napster\n",
    "Topic :: Communications :: Ham Radio\n",
    "Topic :: Communications :: Internet Phone\n",
    "Topic :: Communications :: Telephony\n",
    "Topic :: Communications :: Usenet News\n",
    "Topic :: Database\n",
    "Topic :: Database :: Database Engines/Servers\n",
    "Topic :: Database :: Front-Ends\n",
    "Topic :: Desktop Environment\n",
    "Topic :: Desktop Environment :: File Managers\n",
    "Topic :: Desktop Environment :: Gnome\n",
    "Topic :: Desktop Environment :: GNUstep\n",
    "Topic :: Desktop Environment :: K Desktop Environment (KDE)\n",
    "Topic :: Desktop Environment :: K Desktop Environment (KDE) :: Themes\n",
    "Topic :: Desktop Environment :: PicoGUI\n",
    "Topic :: Desktop Environment :: PicoGUI :: Applications\n",
    "Topic :: Desktop Environment :: PicoGUI :: Themes\n",
    "Topic :: Desktop Environment :: Screen Savers\n",
    "Topic :: Desktop Environment :: Window Managers\n",
    "Topic :: Desktop Environment :: Window Managers :: Afterstep\n",
    "Topic :: Desktop Environment :: Window Managers :: Afterstep :: Themes\n",
    "Topic :: Desktop Environment :: Window Managers :: Applets\n",
    "Topic :: Desktop Environment :: Window Managers :: Blackbox\n",
    "Topic :: Desktop Environment :: Window Managers :: Blackbox :: Themes\n",
    "Topic :: Desktop Environment :: Window Managers :: CTWM\n",
    "Topic :: Desktop Environment :: Window Managers :: CTWM :: Themes\n",
    "Topic :: Desktop Environment :: Window Managers :: Enlightenment\n",
    "Topic :: Desktop Environment :: Window Managers :: Enlightenment :: Epplets\n",
    "Topic :: Desktop Environment :: Window Managers :: Enlightenment :: Themes DR15\n",
    "Topic :: Desktop Environment :: Window Managers :: Enlightenment :: Themes DR16\n",
    "Topic :: Desktop Environment :: Window Managers :: Enlightenment :: Themes DR17\n",
    "Topic :: Desktop Environment :: Window Managers :: Fluxbox\n",
    "Topic :: Desktop Environment :: Window Managers :: Fluxbox :: Themes\n",
    "Topic :: Desktop Environment :: Window Managers :: FVWM\n",
    "Topic :: Desktop Environment :: Window Managers :: FVWM :: Themes\n",
    "Topic :: Desktop Environment :: Window Managers :: IceWM\n",
    "Topic :: Desktop Environment :: Window Managers :: IceWM :: Themes\n",
    "Topic :: Desktop Environment :: Window Managers :: MetaCity\n",
    "Topic :: Desktop Environment :: Window Managers :: MetaCity :: Themes\n",
    "Topic :: Desktop Environment :: Window Managers :: Oroborus\n",
    "Topic :: Desktop Environment :: Window Managers :: Oroborus :: Themes\n",
    "Topic :: Desktop Environment :: Window Managers :: Sawfish\n",
    "Topic :: Desktop Environment :: Window Managers :: Sawfish :: Themes 0.30\n",
    "Topic :: Desktop Environment :: Window Managers :: Sawfish :: Themes pre-0.30\n",
    "Topic :: Desktop Environment :: Window Managers :: Waimea\n",
    "Topic :: Desktop Environment :: Window Managers :: Waimea :: Themes\n",
    "Topic :: Desktop Environment :: Window Managers :: Window Maker\n",
    "Topic :: Desktop Environment :: Window Managers :: Window Maker :: Applets\n",
    "Topic :: Desktop Environment :: Window Managers :: Window Maker :: Themes\n",
    "Topic :: Desktop Environment :: Window Managers :: XFCE\n",
    "Topic :: Desktop Environment :: Window Managers :: XFCE :: Themes\n",
    "Topic :: Documentation\n",
    "Topic :: Documentation :: Sphinx\n",
    "Topic :: Education\n",
    "Topic :: Education :: Computer Aided Instruction (CAI)\n",
    "Topic :: Education :: Testing\n",
    "Topic :: Games/Entertainment\n",
    "Topic :: Games/Entertainment :: Arcade\n",
    "Topic :: Games/Entertainment :: Board Games\n",
    "Topic :: Games/Entertainment :: First Person Shooters\n",
    "Topic :: Games/Entertainment :: Fortune Cookies\n",
    "Topic :: Games/Entertainment :: Multi-User Dungeons (MUD)\n",
    "Topic :: Games/Entertainment :: Puzzle Games\n",
    "Topic :: Games/Entertainment :: Real Time Strategy\n",
    "Topic :: Games/Entertainment :: Role-Playing\n",
    "Topic :: Games/Entertainment :: Side-Scrolling/Arcade Games\n",
    "Topic :: Games/Entertainment :: Simulation\n",
    "Topic :: Games/Entertainment :: Turn Based Strategy\n",
    "Topic :: Home Automation\n",
    "Topic :: Internet\n",
    "Topic :: Internet :: File Transfer Protocol (FTP)\n",
    "Topic :: Internet :: Finger\n",
    "Topic :: Internet :: Log Analysis\n",
    "Topic :: Internet :: Name Service (DNS)\n",
    "Topic :: Internet :: Proxy Servers\n",
    "Topic :: Internet :: WAP\n",
    "Topic :: Internet :: WWW/HTTP\n",
    "Topic :: Internet :: WWW/HTTP :: Browsers\n",
    "Topic :: Internet :: WWW/HTTP :: Dynamic Content\n",
    "Topic :: Internet :: WWW/HTTP :: Dynamic Content :: CGI Tools/Libraries\n",
    "Topic :: Internet :: WWW/HTTP :: Dynamic Content :: Content Management System\n",
    "Topic :: Internet :: WWW/HTTP :: Dynamic Content :: Message Boards\n",
    "Topic :: Internet :: WWW/HTTP :: Dynamic Content :: News/Diary\n",
    "Topic :: Internet :: WWW/HTTP :: Dynamic Content :: Page Counters\n",
    "Topic :: Internet :: WWW/HTTP :: Dynamic Content :: Wiki\n",
    "Topic :: Internet :: WWW/HTTP :: HTTP Servers\n",
    "Topic :: Internet :: WWW/HTTP :: Indexing/Search\n",
    "Topic :: Internet :: WWW/HTTP :: Session\n",
    "Topic :: Internet :: WWW/HTTP :: Site Management\n",
    "Topic :: Internet :: WWW/HTTP :: Site Management :: Link Checking\n",
    "Topic :: Internet :: WWW/HTTP :: WSGI\n",
    "Topic :: Internet :: WWW/HTTP :: WSGI :: Application\n",
    "Topic :: Internet :: WWW/HTTP :: WSGI :: Middleware\n",
    "Topic :: Internet :: WWW/HTTP :: WSGI :: Server\n",
    "Topic :: Internet :: XMPP\n",
    "Topic :: Internet :: Z39.50\n",
    "Topic :: Multimedia\n",
    "Topic :: Multimedia :: Graphics\n",
    "Topic :: Multimedia :: Graphics :: 3D Modeling\n",
    "Topic :: Multimedia :: Graphics :: 3D Rendering\n",
    "Topic :: Multimedia :: Graphics :: Capture\n",
    "Topic :: Multimedia :: Graphics :: Capture :: Digital Camera\n",
    "Topic :: Multimedia :: Graphics :: Capture :: Scanners\n",
    "Topic :: Multimedia :: Graphics :: Capture :: Screen Capture\n",
    "Topic :: Multimedia :: Graphics :: Editors\n",
    "Topic :: Multimedia :: Graphics :: Editors :: Raster-Based\n",
    "Topic :: Multimedia :: Graphics :: Editors :: Vector-Based\n",
    "Topic :: Multimedia :: Graphics :: Graphics Conversion\n",
    "Topic :: Multimedia :: Graphics :: Presentation\n",
    "Topic :: Multimedia :: Graphics :: Viewers\n",
    "Topic :: Multimedia :: Sound/Audio\n",
    "Topic :: Multimedia :: Sound/Audio :: Analysis\n",
    "Topic :: Multimedia :: Sound/Audio :: Capture/Recording\n",
    "Topic :: Multimedia :: Sound/Audio :: CD Audio\n",
    "Topic :: Multimedia :: Sound/Audio :: CD Audio :: CD Playing\n",
    "Topic :: Multimedia :: Sound/Audio :: CD Audio :: CD Ripping\n",
    "Topic :: Multimedia :: Sound/Audio :: CD Audio :: CD Writing\n",
    "Topic :: Multimedia :: Sound/Audio :: Conversion\n",
    "Topic :: Multimedia :: Sound/Audio :: Editors\n",
    "Topic :: Multimedia :: Sound/Audio :: MIDI\n",
    "Topic :: Multimedia :: Sound/Audio :: Mixers\n",
    "Topic :: Multimedia :: Sound/Audio :: Players\n",
    "Topic :: Multimedia :: Sound/Audio :: Players :: MP3\n",
    "Topic :: Multimedia :: Sound/Audio :: Sound Synthesis\n",
    "Topic :: Multimedia :: Sound/Audio :: Speech\n",
    "Topic :: Multimedia :: Video\n",
    "Topic :: Multimedia :: Video :: Capture\n",
    "Topic :: Multimedia :: Video :: Conversion\n",
    "Topic :: Multimedia :: Video :: Display\n",
    "Topic :: Multimedia :: Video :: Non-Linear Editor\n",
    "Topic :: Office/Business\n",
    "Topic :: Office/Business :: Financial\n",
    "Topic :: Office/Business :: Financial :: Accounting\n",
    "Topic :: Office/Business :: Financial :: Investment\n",
    "Topic :: Office/Business :: Financial :: Point-Of-Sale\n",
    "Topic :: Office/Business :: Financial :: Spreadsheet\n",
    "Topic :: Office/Business :: Groupware\n",
    "Topic :: Office/Business :: News/Diary\n",
    "Topic :: Office/Business :: Office Suites\n",
    "Topic :: Office/Business :: Scheduling\n",
    "Topic :: Other/Nonlisted Topic\n",
    "Topic :: Printing\n",
    "Topic :: Religion\n",
    "Topic :: Scientific/Engineering\n",
    "Topic :: Scientific/Engineering :: Artificial Intelligence\n",
    "Topic :: Scientific/Engineering :: Artificial Life\n",
    "Topic :: Scientific/Engineering :: Astronomy\n",
    "Topic :: Scientific/Engineering :: Atmospheric Science\n",
    "Topic :: Scientific/Engineering :: Bio-Informatics\n",
    "Topic :: Scientific/Engineering :: Chemistry\n",
    "Topic :: Scientific/Engineering :: Electronic Design Automation (EDA)\n",
    "Topic :: Scientific/Engineering :: GIS\n",
    "Topic :: Scientific/Engineering :: Human Machine Interfaces\n",
    "Topic :: Scientific/Engineering :: Image Recognition\n",
    "Topic :: Scientific/Engineering :: Information Analysis\n",
    "Topic :: Scientific/Engineering :: Interface Engine/Protocol Translator\n",
    "Topic :: Scientific/Engineering :: Mathematics\n",
    "Topic :: Scientific/Engineering :: Medical Science Apps.\n",
    "Topic :: Scientific/Engineering :: Physics\n",
    "Topic :: Scientific/Engineering :: Visualization\n",
    "Topic :: Security\n",
    "Topic :: Security :: Cryptography\n",
    "Topic :: Sociology\n",
    "Topic :: Sociology :: Genealogy\n",
    "Topic :: Sociology :: History\n",
    "Topic :: Software Development\n",
    "Topic :: Software Development :: Assemblers\n",
    "Topic :: Software Development :: Bug Tracking\n",
    "Topic :: Software Development :: Build Tools\n",
    "Topic :: Software Development :: Code Generators\n",
    "Topic :: Software Development :: Compilers\n",
    "Topic :: Software Development :: Debuggers\n",
    "Topic :: Software Development :: Disassemblers\n",
    "Topic :: Software Development :: Documentation\n",
    "Topic :: Software Development :: Embedded Systems\n",
    "Topic :: Software Development :: Internationalization\n",
    "Topic :: Software Development :: Interpreters\n",
    "Topic :: Software Development :: Libraries\n",
    "Topic :: Software Development :: Libraries :: Application Frameworks\n",
    "Topic :: Software Development :: Libraries :: Java Libraries\n",
    "Topic :: Software Development :: Libraries :: Perl Modules\n",
    "Topic :: Software Development :: Libraries :: PHP Classes\n",
    "Topic :: Software Development :: Libraries :: Pike Modules\n",
    "Topic :: Software Development :: Libraries :: pygame\n",
    "Topic :: Software Development :: Libraries :: Python Modules\n",
    "Topic :: Software Development :: Libraries :: Ruby Modules\n",
    "Topic :: Software Development :: Libraries :: Tcl Extensions\n",
    "Topic :: Software Development :: Localization\n",
    "Topic :: Software Development :: Object Brokering\n",
    "Topic :: Software Development :: Object Brokering :: CORBA\n",
    "Topic :: Software Development :: Pre-processors\n",
    "Topic :: Software Development :: Quality Assurance\n",
    "Topic :: Software Development :: Testing\n",
    "Topic :: Software Development :: Testing :: Traffic Generation\n",
    "Topic :: Software Development :: User Interfaces\n",
    "Topic :: Software Development :: Version Control\n",
    "Topic :: Software Development :: Version Control :: Bazaar\n",
    "Topic :: Software Development :: Version Control :: CVS\n",
    "Topic :: Software Development :: Version Control :: Git\n",
    "Topic :: Software Development :: Version Control :: Mercurial\n",
    "Topic :: Software Development :: Version Control :: RCS\n",
    "Topic :: Software Development :: Version Control :: SCCS\n",
    "Topic :: Software Development :: Widget Sets\n",
    "Topic :: System\n",
    "Topic :: System :: Archiving\n",
    "Topic :: System :: Archiving :: Backup\n",
    "Topic :: System :: Archiving :: Compression\n",
    "Topic :: System :: Archiving :: Mirroring\n",
    "Topic :: System :: Archiving :: Packaging\n",
    "Topic :: System :: Benchmark\n",
    "Topic :: System :: Boot\n",
    "Topic :: System :: Boot :: Init\n",
    "Topic :: System :: Clustering\n",
    "Topic :: System :: Console Fonts\n",
    "Topic :: System :: Distributed Computing\n",
    "Topic :: System :: Emulators\n",
    "Topic :: System :: Filesystems\n",
    "Topic :: System :: Hardware\n",
    "Topic :: System :: Hardware :: Hardware Drivers\n",
    "Topic :: System :: Hardware :: Mainframes\n",
    "Topic :: System :: Hardware :: Symmetric Multi-processing\n",
    "Topic :: System :: Installation/Setup\n",
    "Topic :: System :: Logging\n",
    "Topic :: System :: Monitoring\n",
    "Topic :: System :: Networking\n",
    "Topic :: System :: Networking :: Firewalls\n",
    "Topic :: System :: Networking :: Monitoring\n",
    "Topic :: System :: Networking :: Monitoring :: Hardware Watchdog\n",
    "Topic :: System :: Networking :: Time Synchronization\n",
    "Topic :: System :: Operating System\n",
    "Topic :: System :: Operating System Kernels\n",
    "Topic :: System :: Operating System Kernels :: BSD\n",
    "Topic :: System :: Operating System Kernels :: GNU Hurd\n",
    "Topic :: System :: Operating System Kernels :: Linux\n",
    "Topic :: System :: Power (UPS)\n",
    "Topic :: System :: Recovery Tools\n",
    "Topic :: System :: Shells\n",
    "Topic :: System :: Software Distribution\n",
    "Topic :: System :: Systems Administration\n",
    "Topic :: System :: Systems Administration :: Authentication/Directory\n",
    "Topic :: System :: Systems Administration :: Authentication/Directory :: LDAP\n",
    "Topic :: System :: Systems Administration :: Authentication/Directory :: NIS\n",
    "Topic :: System :: System Shells\n",
    "Topic :: Terminals\n",
    "Topic :: Terminals :: Serial\n",
    "Topic :: Terminals :: Telnet\n",
    "Topic :: Terminals :: Terminal Emulators/X Terminals\n",
    "Topic :: Text Editors\n",
    "Topic :: Text Editors :: Documentation\n",
    "Topic :: Text Editors :: Emacs\n",
    "Topic :: Text Editors :: Integrated Development Environments (IDE)\n",
    "Topic :: Text Editors :: Text Processing\n",
    "Topic :: Text Editors :: Word Processors\n",
    "Topic :: Text Processing\n",
    "Topic :: Text Processing :: Filters\n",
    "Topic :: Text Processing :: Fonts\n",
    "Topic :: Text Processing :: General\n",
    "Topic :: Text Processing :: Indexing\n",
    "Topic :: Text Processing :: Linguistic\n",
    "Topic :: Text Processing :: Markup\n",
    "Topic :: Text Processing :: Markup :: HTML\n",
    "Topic :: Text Processing :: Markup :: LaTeX\n",
    "Topic :: Text Processing :: Markup :: SGML\n",
    "Topic :: Text Processing :: Markup :: VRML\n",
    "Topic :: Text Processing :: Markup :: XML\n",
    "Topic :: Utilities\n",
    "```"
   ]
  },
  {
   "cell_type": "markdown",
   "metadata": {
    "deletable": true,
    "editable": true,
    "slideshow": {
     "slide_type": "slide"
    }
   },
   "source": [
    "**Antwort:**\n",
    "- Ca. 50000 Packages geben das Themengebiet an.\n",
    "- Davon weisen sich über 6500 Packages als **Scientific/Engineering** aus.\n",
    "- Damit ist das Scientific/Engineering-Label das vierthäufigste aller auf PyPI gelisteten Pakete!\n",
    "\n",
    "\n",
    "| topic | count |\n",
    "|-------| ------|\n",
    "| \tSoftware Development |\t27230\n",
    "| \tInternet |\t11108 |\n",
    "| \tUtilities |\t8117 |\n",
    "| \t**Scientific/Engineering** |\t6794 |\n",
    "| \tSystem |\t4576 |\n",
    "| \tText Processing |\t2395 |\n",
    "| \tDatabase |\t1691 |\n",
    "| \tMultimedia |\t1659 |\n",
    "| \tCommunications |\t1606 |\n",
    "| \tOffice/Business |\t1138 |\n",
    "| \tSecurity |\t1087 |\n",
    "| ... | ... |"
   ]
  },
  {
   "cell_type": "markdown",
   "metadata": {
    "deletable": true,
    "editable": true,
    "slideshow": {
     "slide_type": "slide"
    }
   },
   "source": [
    "#### Warum Scientific Computing mit Python? Stellenwert im Ökosystem:\n",
    "##### [PEP 465 -- A dedicated infix operator for matrix multiplication](http://legacy.python.org/dev/peps/pep-0465/)\n",
    "> This PEP proposes a new binary operator to be used for matrix multiplication, called @. (Mnemonic: @ is * for mATrices.)\n",
    "\n",
    "**Hinweis:** PEP = Python Enhancement Proposal"
   ]
  },
  {
   "cell_type": "markdown",
   "metadata": {
    "deletable": true,
    "editable": true,
    "slideshow": {
     "slide_type": "slide"
    }
   },
   "source": [
    "#### Warum Scientific Computing mit Python? Wer:\n",
    "\n",
    "<img src=\"images/who.png\" alt=\"who\" align=\"middle\" width=\"600\">"
   ]
  },
  {
   "cell_type": "markdown",
   "metadata": {
    "deletable": true,
    "editable": true,
    "slideshow": {
     "slide_type": "slide"
    }
   },
   "source": [
    "#### Was ist SciPy?\n",
    "\n",
    "> *SciPy (pronounced “Sigh Pie”) is a Python-based ecosystem of open-source software for mathematics, science, and engineering.*"
   ]
  },
  {
   "cell_type": "markdown",
   "metadata": {
    "deletable": true,
    "editable": true,
    "slideshow": {
     "slide_type": "fragment"
    }
   },
   "source": [
    "<img src=\"images/0_NumPy.png\" alt=\"0_NumPy\" align=\"middle\" width=\"700\">"
   ]
  },
  {
   "cell_type": "markdown",
   "metadata": {
    "deletable": true,
    "editable": true,
    "slideshow": {
     "slide_type": "fragment"
    }
   },
   "source": [
    "<img src=\"images/1_SciPy_matplotlib.png\" alt=\"2_SciPy_matplotlib\" align=\"middle\" width=\"700\">"
   ]
  },
  {
   "cell_type": "markdown",
   "metadata": {
    "deletable": true,
    "editable": true,
    "slideshow": {
     "slide_type": "fragment"
    }
   },
   "source": [
    "<img src=\"images/2_pandas_SymPy_IPython.png\" alt=\"2_pandas_SymPy_IPython\" align=\"middle\" width=\"700\">"
   ]
  },
  {
   "cell_type": "markdown",
   "metadata": {
    "deletable": true,
    "editable": true,
    "slideshow": {
     "slide_type": "slide"
    }
   },
   "source": [
    "#### Und dann gibt es noch scikits und andere Packages..."
   ]
  },
  {
   "cell_type": "markdown",
   "metadata": {
    "deletable": true,
    "editable": true,
    "slideshow": {
     "slide_type": "fragment"
    }
   },
   "source": [
    "<img src=\"images/statsmodels_hybi_banner.png\" alt=\"StatsModels-logo\" align=\"right\" width=\"280\">"
   ]
  },
  {
   "cell_type": "markdown",
   "metadata": {
    "deletable": true,
    "editable": true,
    "slideshow": {
     "slide_type": "fragment"
    }
   },
   "source": [
    "<img src=\"images/scikit-learn-logo-small.png\" alt=\"scikit-learn-logo\" align=\"left\" width=\"230\">"
   ]
  },
  {
   "cell_type": "markdown",
   "metadata": {
    "deletable": true,
    "editable": true,
    "slideshow": {
     "slide_type": "fragment"
    }
   },
   "source": [
    "<img src=\"images/scikit_image.png\" alt=\"scikit-image-logo\" align=\"right\" width=\"280\">"
   ]
  },
  {
   "cell_type": "markdown",
   "metadata": {
    "deletable": true,
    "editable": true,
    "slideshow": {
     "slide_type": "fragment"
    }
   },
   "source": [
    "<h2>Natural Language Toolkit</h2>"
   ]
  },
  {
   "cell_type": "markdown",
   "metadata": {
    "deletable": true,
    "editable": true,
    "slideshow": {
     "slide_type": "fragment"
    }
   },
   "source": [
    "<div align=\"right\">\n",
    "  <h4>... und viele mehr!</h4>\n",
    "</div>"
   ]
  },
  {
   "cell_type": "markdown",
   "metadata": {
    "deletable": true,
    "editable": true,
    "slideshow": {
     "slide_type": "slide"
    }
   },
   "source": [
    "#### Und wie mache ich das jetzt?\n",
    "\n",
    "Am einfachsten mit einer Scientific Distribution:\n",
    "\n",
    "<div>\n",
    "  <img src=\"images/logo-anaconda.svg\" alt=\"anaconda-logo\" style=\"float:left;\" width=\"150\">\n",
    "  <img src=\"images/winpython_title.png\" alt=\"winpython-logo\" style=\"float:left;\" width=\"150\">\n",
    "</div>\n"
   ]
  },
  {
   "cell_type": "markdown",
   "metadata": {
    "deletable": true,
    "editable": true,
    "slideshow": {
     "slide_type": "fragment"
    }
   },
   "source": [
    "Diese bieten:\n",
    "- umfangreiche Paketsammlungen (alles, was man zu Beginn braucht)\n",
    "- Paket (und Environment) Management\n",
    "- [IPython](http://ipython.org/) (Interactive Python)\n",
    "- [Spyder](http://pythonhosted.org/spyder/) (IDE, vergleichbar mit Matlab oder RStudio)\n",
    "- [Jupyter Notebook](http://jupyter.org/) (Browser-basierte interaktive Entwicklungsumgebung) <-- in **zwei Stunden Vortrag** dazu!\n",
    "\n",
    "> run Python, Spyder with SciPy and friends out of the box "
   ]
  },
  {
   "cell_type": "markdown",
   "metadata": {
    "collapsed": true,
    "deletable": true,
    "editable": true,
    "slideshow": {
     "slide_type": "slide"
    }
   },
   "source": [
    "#### Beispiele\n",
    "\n",
    "Gleich gibt es eine Demo...\n",
    "\n",
    "- Beispiel 1: Wir explorieren/visualisieren einen Datensatz mit  [pandas](http://pandas.pydata.org/), [matplotlib](http://matplotlib.org/) and [seaborn](https://seaborn.github.io/)\n",
    "- Beispiel 2: Wir lösen und interpretieren eine [ODE](https://en.wikipedia.org/wiki/Lotka%E2%80%93Volterra_equations) mit  [SciPy](http://scipy.org/scipylib/index.html) und [ipywidgets](https://github.com/ipython/ipywidgets)"
   ]
  },
  {
   "cell_type": "markdown",
   "metadata": {
    "deletable": true,
    "editable": true,
    "slideshow": {
     "slide_type": "slide"
    }
   },
   "source": [
    "#### Wo gibt's (Sci)Py?\n",
    "\n",
    "[PyGRAZ Meetup](https://www.meetup.com/de-DE/PyGRAZ/) (Python User Group Graz)\n",
    "\n",
    "\n"
   ]
  },
  {
   "cell_type": "markdown",
   "metadata": {
    "deletable": true,
    "editable": true,
    "slideshow": {
     "slide_type": "fragment"
    }
   },
   "source": [
    "<img src=\"images/PyDays_Vienna_Logo_Font.png\" alt=\"PyDays Vienna\" align=\"middle\" width=\"300\">\n",
    "\n",
    "\n",
    "**Österreichs erste (mini) Python Konferenz**\n",
    "- **[pydays.at](http://pydays.at/)**\n",
    "- mehr als **20 Vorträge und Workshops**\n",
    "- 5.-6. Mai 2017\n",
    "- FH Technikum Wien\n",
    "- im Rahmen der Linuxwochen Wien\n"
   ]
  }
 ],
 "metadata": {
  "celltoolbar": "Slideshow",
  "hide_input": false,
  "kernelspec": {
   "display_name": "Python 3",
   "language": "python",
   "name": "python3"
  },
  "language_info": {
   "codemirror_mode": {
    "name": "ipython",
    "version": 3
   },
   "file_extension": ".py",
   "mimetype": "text/x-python",
   "name": "python",
   "nbconvert_exporter": "python",
   "pygments_lexer": "ipython3",
   "version": "3.5.2"
  }
 },
 "nbformat": 4,
 "nbformat_minor": 0
}
