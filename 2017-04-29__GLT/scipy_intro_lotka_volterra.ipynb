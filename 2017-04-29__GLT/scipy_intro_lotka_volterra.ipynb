{
 "cells": [
  {
   "cell_type": "markdown",
   "metadata": {
    "deletable": true,
    "editable": true,
    "slideshow": {
     "slide_type": "slide"
    }
   },
   "source": [
    "## Lösen und interpretieren einer [Lotka-Volterra](https://en.wikipedia.org/wiki/Lotka%E2%80%93Volterra_equation) Gleichung\n",
    "Die Lotka-Volterra oder Räuber-Beute Gleichungen/Systeme/Modelle beschreiben die Dynamik biologischer Systeme.\n",
    "Wir werden ein einfaches Modell lösen und interpretieren und verwenden dazu\n",
    "- [NumPy](http://numpy.org/),\n",
    "- [SciPy](http://scipy.org/scipylib/index.html) und\n",
    "- [ipywidgets](https://github.com/ipython/ipywidgets).\n",
    "\n",
    "\n",
    "**Frage:**\n",
    "- Wie könnte sich eine idealisierte Hasen-Füchse-Population über die Zeit entwickeln?"
   ]
  },
  {
   "cell_type": "markdown",
   "metadata": {
    "deletable": true,
    "editable": true,
    "slideshow": {
     "slide_type": "slide"
    }
   },
   "source": [
    "### Lotka wer?"
   ]
  },
  {
   "cell_type": "markdown",
   "metadata": {
    "deletable": true,
    "editable": true,
    "slideshow": {
     "slide_type": "fragment"
    }
   },
   "source": [
    "# [Lotka–Volterra Gleichung](https://en.wikipedia.org/wiki/Lotka%E2%80%93Volterra_equations)\n",
    "\n",
    "$$\\begin{align} \\frac{dx}{dt} = \\alpha x - \\beta x y \\\\ \\frac{dy}{dt} = \\delta x y - \\gamma y \\end{align} $$\n",
    "\n",
    "wo\n",
    "\n",
    "- $x$ Anzahl Beute (bspw. Hasen);\n",
    "    \n",
    "- $y$ Anzahl Räuber (bspw. Füchse);\n",
    "    \n",
    "- $\\tfrac{dy}{dt}$ und $\\tfrac{dx}{dt}$ Vermehrungsrate über die Zeit;\n",
    "    \n",
    "- $t$ Zeit; \n",
    "    \n",
    "- und $α$, $β$, $γ$, $δ$ sind positive Parameter welche die Populationen sowie die Interaktionen beschreiben."
   ]
  },
  {
   "cell_type": "markdown",
   "metadata": {
    "deletable": true,
    "editable": true,
    "slideshow": {
     "slide_type": "slide"
    }
   },
   "source": [
    "### Vorbereitung"
   ]
  },
  {
   "cell_type": "code",
   "execution_count": 1,
   "metadata": {
    "collapsed": false,
    "deletable": true,
    "editable": true,
    "slideshow": {
     "slide_type": "fragment"
    }
   },
   "outputs": [],
   "source": [
    "%matplotlib inline\n",
    "from collections import namedtuple\n",
    "from ipywidgets import interactive\n",
    "from IPython.display import display\n",
    "\n",
    "import matplotlib.pyplot as plt\n",
    "import numpy as np\n",
    "from scipy.integrate import odeint\n",
    "import seaborn as sns  # just for the styling\n",
    "sns.set_style('whitegrid')\n",
    "\n",
    "# some parameters we will need\n",
    "x0 = 10  # initial number of prey (rabbits)\n",
    "y0 = 10  # initial number of predators (foxes)\n",
    "alpha = 1\n",
    "beta = 0.1\n",
    "delta = 0.075\n",
    "gamma = 1.5\n",
    "Coeffs = namedtuple('coeffs', ['alpha', 'beta', 'delta', 'gamma'])\n",
    "coeffs = Coeffs(alpha=alpha, beta=beta, delta=delta, gamma=gamma)"
   ]
  },
  {
   "cell_type": "code",
   "execution_count": 2,
   "metadata": {
    "collapsed": false,
    "deletable": true,
    "editable": true,
    "slideshow": {
     "slide_type": "subslide"
    }
   },
   "outputs": [
    {
     "name": "stdout",
     "output_type": "stream",
     "text": [
      "Help on function odeint in module scipy.integrate.odepack:\n",
      "\n",
      "odeint(func, y0, t, args=(), Dfun=None, col_deriv=0, full_output=0, ml=None, mu=None, rtol=None, atol=None, tcrit=None, h0=0.0, hmax=0.0, hmin=0.0, ixpr=0, mxstep=0, mxhnil=0, mxordn=12, mxords=5, printmessg=0)\n",
      "    Integrate a system of ordinary differential equations.\n",
      "    \n",
      "    Solve a system of ordinary differential equations using lsoda from the\n",
      "    FORTRAN library odepack.\n",
      "    \n",
      "    Solves the initial value problem for stiff or non-stiff systems\n",
      "    of first order ode-s::\n",
      "    \n",
      "        dy/dt = func(y, t0, ...)\n",
      "    \n",
      "    where y can be a vector.\n",
      "    \n",
      "    *Note*: The first two arguments of ``func(y, t0, ...)`` are in the\n",
      "    opposite order of the arguments in the system definition function used\n",
      "    by the `scipy.integrate.ode` class.\n",
      "    \n",
      "    Parameters\n",
      "    ----------\n",
      "    func : callable(y, t0, ...)\n",
      "        Computes the derivative of y at t0.\n",
      "    y0 : array\n",
      "        Initial condition on y (can be a vector).\n",
      "    t : array\n",
      "        A sequence of time points for which to solve for y.  The initial\n",
      "        value point should be the first element of this sequence.\n",
      "    args : tuple, optional\n",
      "        Extra arguments to pass to function.\n",
      "    Dfun : callable(y, t0, ...)\n",
      "        Gradient (Jacobian) of `func`.\n",
      "    col_deriv : bool, optional\n",
      "        True if `Dfun` defines derivatives down columns (faster),\n",
      "        otherwise `Dfun` should define derivatives across rows.\n",
      "    full_output : bool, optional\n",
      "        True if to return a dictionary of optional outputs as the second output\n",
      "    printmessg : bool, optional\n",
      "        Whether to print the convergence message\n",
      "    \n",
      "    Returns\n",
      "    -------\n",
      "    y : array, shape (len(t), len(y0))\n",
      "        Array containing the value of y for each desired time in t,\n",
      "        with the initial value `y0` in the first row.\n",
      "    infodict : dict, only returned if full_output == True\n",
      "        Dictionary containing additional output information\n",
      "    \n",
      "        =======  ============================================================\n",
      "        key      meaning\n",
      "        =======  ============================================================\n",
      "        'hu'     vector of step sizes successfully used for each time step.\n",
      "        'tcur'   vector with the value of t reached for each time step.\n",
      "                 (will always be at least as large as the input times).\n",
      "        'tolsf'  vector of tolerance scale factors, greater than 1.0,\n",
      "                 computed when a request for too much accuracy was detected.\n",
      "        'tsw'    value of t at the time of the last method switch\n",
      "                 (given for each time step)\n",
      "        'nst'    cumulative number of time steps\n",
      "        'nfe'    cumulative number of function evaluations for each time step\n",
      "        'nje'    cumulative number of jacobian evaluations for each time step\n",
      "        'nqu'    a vector of method orders for each successful step.\n",
      "        'imxer'  index of the component of largest magnitude in the\n",
      "                 weighted local error vector (e / ewt) on an error return, -1\n",
      "                 otherwise.\n",
      "        'lenrw'  the length of the double work array required.\n",
      "        'leniw'  the length of integer work array required.\n",
      "        'mused'  a vector of method indicators for each successful time step:\n",
      "                 1: adams (nonstiff), 2: bdf (stiff)\n",
      "        =======  ============================================================\n",
      "    \n",
      "    Other Parameters\n",
      "    ----------------\n",
      "    ml, mu : int, optional\n",
      "        If either of these are not None or non-negative, then the\n",
      "        Jacobian is assumed to be banded.  These give the number of\n",
      "        lower and upper non-zero diagonals in this banded matrix.\n",
      "        For the banded case, `Dfun` should return a matrix whose\n",
      "        rows contain the non-zero bands (starting with the lowest diagonal).\n",
      "        Thus, the return matrix `jac` from `Dfun` should have shape\n",
      "        ``(ml + mu + 1, len(y0))`` when ``ml >=0`` or ``mu >=0``.\n",
      "        The data in `jac` must be stored such that ``jac[i - j + mu, j]``\n",
      "        holds the derivative of the `i`th equation with respect to the `j`th\n",
      "        state variable.  If `col_deriv` is True, the transpose of this\n",
      "        `jac` must be returned.\n",
      "    rtol, atol : float, optional\n",
      "        The input parameters `rtol` and `atol` determine the error\n",
      "        control performed by the solver.  The solver will control the\n",
      "        vector, e, of estimated local errors in y, according to an\n",
      "        inequality of the form ``max-norm of (e / ewt) <= 1``,\n",
      "        where ewt is a vector of positive error weights computed as\n",
      "        ``ewt = rtol * abs(y) + atol``.\n",
      "        rtol and atol can be either vectors the same length as y or scalars.\n",
      "        Defaults to 1.49012e-8.\n",
      "    tcrit : ndarray, optional\n",
      "        Vector of critical points (e.g. singularities) where integration\n",
      "        care should be taken.\n",
      "    h0 : float, (0: solver-determined), optional\n",
      "        The step size to be attempted on the first step.\n",
      "    hmax : float, (0: solver-determined), optional\n",
      "        The maximum absolute step size allowed.\n",
      "    hmin : float, (0: solver-determined), optional\n",
      "        The minimum absolute step size allowed.\n",
      "    ixpr : bool, optional\n",
      "        Whether to generate extra printing at method switches.\n",
      "    mxstep : int, (0: solver-determined), optional\n",
      "        Maximum number of (internally defined) steps allowed for each\n",
      "        integration point in t.\n",
      "    mxhnil : int, (0: solver-determined), optional\n",
      "        Maximum number of messages printed.\n",
      "    mxordn : int, (0: solver-determined), optional\n",
      "        Maximum order to be allowed for the non-stiff (Adams) method.\n",
      "    mxords : int, (0: solver-determined), optional\n",
      "        Maximum order to be allowed for the stiff (BDF) method.\n",
      "    \n",
      "    See Also\n",
      "    --------\n",
      "    ode : a more object-oriented integrator based on VODE.\n",
      "    quad : for finding the area under a curve.\n",
      "    \n",
      "    Examples\n",
      "    --------\n",
      "    The second order differential equation for the angle `theta` of a\n",
      "    pendulum acted on by gravity with friction can be written::\n",
      "    \n",
      "        theta''(t) + b*theta'(t) + c*sin(theta(t)) = 0\n",
      "    \n",
      "    where `b` and `c` are positive constants, and a prime (') denotes a\n",
      "    derivative.  To solve this equation with `odeint`, we must first convert\n",
      "    it to a system of first order equations.  By defining the angular\n",
      "    velocity ``omega(t) = theta'(t)``, we obtain the system::\n",
      "    \n",
      "        theta'(t) = omega(t)\n",
      "        omega'(t) = -b*omega(t) - c*sin(theta(t))\n",
      "    \n",
      "    Let `y` be the vector [`theta`, `omega`].  We implement this system\n",
      "    in python as:\n",
      "    \n",
      "    >>> def pend(y, t, b, c):\n",
      "    ...     theta, omega = y\n",
      "    ...     dydt = [omega, -b*omega - c*np.sin(theta)]\n",
      "    ...     return dydt\n",
      "    ...\n",
      "    \n",
      "    We assume the constants are `b` = 0.25 and `c` = 5.0:\n",
      "    \n",
      "    >>> b = 0.25\n",
      "    >>> c = 5.0\n",
      "    \n",
      "    For initial conditions, we assume the pendulum is nearly vertical\n",
      "    with `theta(0)` = `pi` - 0.1, and it initially at rest, so\n",
      "    `omega(0)` = 0.  Then the vector of initial conditions is\n",
      "    \n",
      "    >>> y0 = [np.pi - 0.1, 0.0]\n",
      "    \n",
      "    We generate a solution 101 evenly spaced samples in the interval\n",
      "    0 <= `t` <= 10.  So our array of times is:\n",
      "    \n",
      "    >>> t = np.linspace(0, 10, 101)\n",
      "    \n",
      "    Call `odeint` to generate the solution.  To pass the parameters\n",
      "    `b` and `c` to `pend`, we give them to `odeint` using the `args`\n",
      "    argument.\n",
      "    \n",
      "    >>> from scipy.integrate import odeint\n",
      "    >>> sol = odeint(pend, y0, t, args=(b, c))\n",
      "    \n",
      "    The solution is an array with shape (101, 2).  The first column\n",
      "    is `theta(t)`, and the second is `omega(t)`.  The following code\n",
      "    plots both components.\n",
      "    \n",
      "    >>> import matplotlib.pyplot as plt\n",
      "    >>> plt.plot(t, sol[:, 0], 'b', label='theta(t)')\n",
      "    >>> plt.plot(t, sol[:, 1], 'g', label='omega(t)')\n",
      "    >>> plt.legend(loc='best')\n",
      "    >>> plt.xlabel('t')\n",
      "    >>> plt.grid()\n",
      "    >>> plt.show()\n",
      "\n"
     ]
    }
   ],
   "source": [
    "help(odeint)"
   ]
  },
  {
   "cell_type": "markdown",
   "metadata": {
    "deletable": true,
    "editable": true,
    "slideshow": {
     "slide_type": "slide"
    }
   },
   "source": [
    "### Lösung"
   ]
  },
  {
   "cell_type": "code",
   "execution_count": 3,
   "metadata": {
    "collapsed": true,
    "deletable": true,
    "editable": true,
    "slideshow": {
     "slide_type": "fragment"
    }
   },
   "outputs": [],
   "source": [
    "def dX_dt(X, t, coeffs):  # this is the right hand side\n",
    "    \n",
    "    alpha, beta, delta, gamma = coeffs\n",
    "    x, y = X\n",
    "    dx_dt = alpha * x - beta * x * y\n",
    "    dy_dt = delta * x * y - gamma * y\n",
    "    \n",
    "    return np.array([dx_dt, dy_dt])"
   ]
  },
  {
   "cell_type": "code",
   "execution_count": 4,
   "metadata": {
    "collapsed": false,
    "deletable": true,
    "editable": true,
    "slideshow": {
     "slide_type": "fragment"
    }
   },
   "outputs": [
    {
     "data": {
      "text/plain": [
       "array([[ 10.        ,  10.        ],\n",
       "       [ 10.02092528,   9.45073035],\n",
       "       [ 10.08233081,   8.93371756],\n",
       "       [ 10.18248651,   8.44885208],\n",
       "       [ 10.32005366,   7.9956772 ],\n",
       "       [ 10.4940383 ,   7.57347906],\n",
       "       [ 10.70374942,   7.1813607 ],\n",
       "       [ 10.94876147,   6.8183035 ],\n",
       "       [ 11.22888062,   6.48321736],\n",
       "       [ 11.54411406,   6.17498161],\n",
       "       [ 11.89464176,   5.89247818],\n",
       "       [ 12.28078965,   5.63461897],\n",
       "       [ 12.70300372,   5.40036805],\n",
       "       [ 13.16182408,   5.18876016],\n",
       "       [ 13.65785829,   4.99891645],\n",
       "       [ 14.19175305,   4.83005808],\n",
       "       [ 14.76416315,   4.68151894],\n",
       "       [ 15.37571706,   4.5527575 ],\n",
       "       [ 16.02697767,   4.44336885],\n",
       "       [ 16.71839715,   4.35309755],\n",
       "       [ 17.45026441,   4.28185156],\n",
       "       [ 18.22264362,   4.22971816],\n",
       "       [ 19.03530199,   4.19698207],\n",
       "       [ 19.88762493,   4.18414653],\n",
       "       [ 20.77851626,   4.19195768],\n",
       "       [ 21.70628162,   4.22143278],\n",
       "       [ 22.66849197,   4.27389221],\n",
       "       [ 23.66182636,   4.35099554],\n",
       "       [ 24.68189091,   4.45478112],\n",
       "       [ 25.72301543,   4.58770734],\n",
       "       [ 26.77802689,   4.75269415],\n",
       "       [ 27.83800432,   4.95316054],\n",
       "       [ 28.89202652,   5.19305011],\n",
       "       [ 29.92692212,   5.47683814],\n",
       "       [ 30.92705175,   5.80950246],\n",
       "       [ 31.87415414,   6.19644199],\n",
       "       [ 32.74730757,   6.64331609],\n",
       "       [ 33.52307214,   7.15577501],\n",
       "       [ 34.17589254,   7.73904843],\n",
       "       [ 34.67884773,   8.39736146],\n",
       "       [ 35.0048265 ,   9.13316267],\n",
       "       [ 35.12817458,   9.94617508],\n",
       "       [ 35.02678966,  10.83233225],\n",
       "       [ 34.68453441,  11.78272565],\n",
       "       [ 34.093702  ,  12.78276108],\n",
       "       [ 33.25713783,  13.81177668],\n",
       "       [ 32.189549  ,  14.84337456],\n",
       "       [ 30.91757276,  15.84663687],\n",
       "       [ 29.47836452,  16.78822655],\n",
       "       [ 27.91677652,  17.63514605],\n",
       "       [ 26.28154095,  18.35772312],\n",
       "       [ 24.62111827,  18.93229328],\n",
       "       [ 22.97993224,  19.34310267],\n",
       "       [ 21.39556142,  19.5831487 ],\n",
       "       [ 19.89717216,  19.65393298],\n",
       "       [ 18.50517202,  19.5643262 ],\n",
       "       [ 17.23183497,  19.32887696],\n",
       "       [ 16.08254418,  18.96591748],\n",
       "       [ 15.05730649,  18.49575688],\n",
       "       [ 14.15226789,  17.93915004],\n",
       "       [ 13.36105896,  17.3161286 ],\n",
       "       [ 12.67588916,  16.64520067],\n",
       "       [ 12.08837477,  15.94287594],\n",
       "       [ 11.59012431,  15.22345095],\n",
       "       [ 11.17312369,  14.49898458],\n",
       "       [ 10.82996749,  13.77940121],\n",
       "       [ 10.55397834,  13.07267107],\n",
       "       [ 10.33924959,  12.38502964],\n",
       "       [ 10.18063818,  11.72120963],\n",
       "       [ 10.07372731,  11.08466816],\n",
       "       [ 10.01477284,  10.4777986 ],\n",
       "       [ 10.00064256,   9.9021217 ],\n",
       "       [ 10.02875397,   9.35845405],\n",
       "       [ 10.09701445,   8.84705346],\n",
       "       [ 10.20376541,   8.36774297],\n",
       "       [ 10.34773129,   7.92001518],\n",
       "       [ 10.52797377,   7.50311931],\n",
       "       [ 10.7438506 ,   7.11613316],\n",
       "       [ 10.99497889,   6.75802237],\n",
       "       [ 11.28120191,   6.42768881],\n",
       "       [ 11.60255891,   6.12401003],\n",
       "       [ 11.95925712,   5.84587145],\n",
       "       [ 12.35164523,   5.59219255],\n",
       "       [ 12.78018745,   5.36194844],\n",
       "       [ 13.24543762,   5.15418783],\n",
       "       [ 13.74801218,   4.96804833],\n",
       "       [ 14.28856154,   4.80276987],\n",
       "       [ 14.86773851,   4.65770714],\n",
       "       [ 15.48616313,   4.53234148],\n",
       "       [ 16.14438246,   4.42629304],\n",
       "       [ 16.84282427,   4.33933377],\n",
       "       [ 17.58174304,   4.27140165],\n",
       "       [ 18.36115678,   4.2226169 ],\n",
       "       [ 19.18077279,   4.19330067],\n",
       "       [ 20.03990034,   4.18399662],\n",
       "       [ 20.93734803,   4.19549593],\n",
       "       [ 21.87130403,   4.22886616],\n",
       "       [ 22.83919607,   4.28548403],\n",
       "       [ 23.83753021,   4.36707203],\n",
       "       [ 24.86170581,   4.47573873],\n",
       "       [ 25.90580805,   4.61401978],\n",
       "       [ 26.96237763,   4.78491956],\n",
       "       [ 28.02216406,   4.99194681],\n",
       "       [ 29.07387185,   5.23913802],\n",
       "       [ 30.10391473,   5.53105911],\n",
       "       [ 31.09620569,   5.87276895],\n",
       "       [ 32.03201913,   6.26972598],\n",
       "       [ 32.88997876,   6.72761087],\n",
       "       [ 33.64623905,   7.2520348 ],\n",
       "       [ 34.27494203,   7.84809985],\n",
       "       [ 34.74903596,   8.51978302],\n",
       "       [ 35.04153169,   9.26913081],\n",
       "       [ 35.12723077,  10.09528542],\n",
       "       [ 34.98488987,  10.99341044],\n",
       "       [ 34.59966519,  11.95365916],\n",
       "       [ 33.9655502 ,  12.96039206],\n",
       "       [ 33.0873901 ,  13.99190199],\n",
       "       [ 31.98200296,  15.0208911 ],\n",
       "       [ 30.67799985,  16.01584715],\n",
       "       [ 29.21411298,  16.94328113],\n",
       "       [ 27.63616317,  17.77056081],\n",
       "       [ 25.99313181,  18.46888302],\n",
       "       [ 24.33302665,  19.01585058],\n",
       "       [ 22.69924925,  19.39720358],\n",
       "       [ 21.12799076,  19.60746558],\n",
       "       [ 19.64688698,  19.64952225],\n",
       "       [ 18.27486325,  19.53336375],\n",
       "       [ 17.02289349,  19.27433377],\n",
       "       [ 15.89531377,  18.89123238],\n",
       "       [ 14.89135338,  18.40454675],\n",
       "       [ 14.00663044,  17.83497926],\n",
       "       [ 13.23445715,  17.20234417],\n",
       "       [ 12.56688751,  16.52482774],\n",
       "       [ 11.99550064,  15.8185638 ],\n",
       "       [ 11.51194794,  15.09745698],\n",
       "       [ 11.1083083 ,  14.37318458],\n",
       "       [ 10.77729692,  13.65531656],\n",
       "       [ 10.51236919,  12.95150484],\n",
       "       [ 10.30775289,  12.26770676],\n",
       "       [ 10.15843461,  11.60841707],\n",
       "       [ 10.06011876,  10.97689311],\n",
       "       [ 10.00917214,  10.37536331],\n",
       "       [ 10.00256259,   9.80521449],\n",
       "       [ 10.03779705,   9.26715618],\n",
       "       [ 10.11286232,   8.76136222],\n",
       "       [ 10.22616995,   8.28759115],\n",
       "       [ 10.37650623,   7.84528745],\n",
       "       [ 10.56298718,   7.4336657 ],\n",
       "       [ 10.78501821,   7.05178029],\n",
       "       [ 11.04225805,   6.69858254],\n",
       "       [ 11.33458619,   6.37296748],\n",
       "       [ 11.66207304,   6.07381191],\n",
       "       [ 12.02495234,   5.80000542],\n",
       "       [ 12.42359473,   5.55047577],\n",
       "       [ 12.85848189,   5.32420964],\n",
       "       [ 13.33018054,   5.12027019],\n",
       "       [ 13.83931515,   4.93781187],\n",
       "       [ 14.38653889,   4.77609374],\n",
       "       [ 14.97250155,   4.63449164],\n",
       "       [ 15.5978135 ,   4.5125102 ],\n",
       "       [ 16.26300458,   4.40979502],\n",
       "       [ 16.96847652,   4.32614585],\n",
       "       [ 17.71444751,   4.26153116],\n",
       "       [ 18.50088717,   4.21610472],\n",
       "       [ 19.32744019,   4.19022474],\n",
       "       [ 20.19333656,   4.18447606],\n",
       "       [ 21.09728613,   4.19969574],\n",
       "       [ 22.03735532,   4.23700269],\n",
       "       [ 23.01082377,   4.29783104],\n",
       "       [ 24.01401879,   4.38396761],\n",
       "       [ 25.0421269 ,   4.49759201],\n",
       "       [ 26.08898155,   4.64131874],\n",
       "       [ 27.14682969,   4.8182377 ],\n",
       "       [ 28.2060837 ,   5.03194793],\n",
       "       [ 29.25506618,   5.28657911],\n",
       "       [ 30.27976951,   5.58678664],\n",
       "       [ 31.26365473,   5.9377077 ],\n",
       "       [ 32.18753142,   6.34485493],\n",
       "       [ 33.02957391,   6.8139216 ],\n",
       "       [ 33.76554468,   7.3504666 ],\n",
       "       [ 34.36930786,   7.95944554],\n",
       "       [ 34.81371922,   8.64456292],\n",
       "       [ 35.0719634 ,   9.40743397],\n",
       "       [ 35.11936435,  10.2465867 ],\n",
       "       [ 34.93561205,  11.1563832 ],\n",
       "       [ 34.50723146,  12.12601412],\n",
       "       [ 33.8299783 ,  13.13878574],\n",
       "       [ 32.91073228,  14.17196004],\n",
       "       [ 31.76841734,  15.19738091],\n",
       "       [ 30.43356762,  16.18300977],\n",
       "       [ 28.94639976,  17.09529247],\n",
       "       [ 27.35358176,  17.90205381],\n",
       "       [ 25.7042172 ,  18.57543888],\n",
       "       [ 24.04575005,  19.09437067],\n",
       "       [ 22.42048014,  19.44610274],\n",
       "       [ 20.86317104,  19.62667126],\n",
       "       [ 19.39992396,  19.6403071 ],\n",
       "       [ 18.04820581,  19.49806607],\n",
       "       [ 16.81773102,  19.21602904],\n",
       "       [ 15.71183528,  18.81340996]])"
      ]
     },
     "execution_count": 4,
     "metadata": {},
     "output_type": "execute_result"
    }
   ],
   "source": [
    "X0 = np.array([x0, y0])  # initial conditions\n",
    "t = np.linspace(0, 15, 200)  # time (you always need time...)\n",
    "\n",
    "X = odeint(dX_dt, X0, t, args=(coeffs,))  # that's it!\n",
    "X"
   ]
  },
  {
   "cell_type": "code",
   "execution_count": 5,
   "metadata": {
    "collapsed": false,
    "deletable": true,
    "editable": true,
    "slideshow": {
     "slide_type": "subslide"
    }
   },
   "outputs": [
    {
     "data": {
      "text/plain": [
       "<matplotlib.legend.Legend at 0x7f2cf5c6d748>"
      ]
     },
     "execution_count": 5,
     "metadata": {},
     "output_type": "execute_result"
    },
    {
     "data": {
      "image/png": "[encoded data removed]",
      "text/plain": [
       "<matplotlib.figure.Figure at 0x7f2cf5f57748>"
      ]
     },
     "metadata": {},
     "output_type": "display_data"
    }
   ],
   "source": [
    "# often a picture is worth a thousand words\n",
    "x, y = X.T\n",
    "fig, ax = plt.subplots(figsize=(10, 5))\n",
    "ax.plot(t, x, color='green', label='x (prey, rabbits)')\n",
    "ax.plot(t, y, color='blue', label='y (predator, foxes)')\n",
    "ax.set_xlabel('t (time)')\n",
    "ax.set_ylabel('X (population)')\n",
    "ax.legend()"
   ]
  },
  {
   "cell_type": "markdown",
   "metadata": {
    "deletable": true,
    "editable": true,
    "slideshow": {
     "slide_type": "slide"
    }
   },
   "source": [
    "### Es geht noch besser..."
   ]
  },
  {
   "cell_type": "code",
   "execution_count": 6,
   "metadata": {
    "collapsed": true,
    "deletable": true,
    "editable": true,
    "slideshow": {
     "slide_type": "fragment"
    }
   },
   "outputs": [],
   "source": [
    "# let's pretend we develop a GUI\n",
    "# put the solve-plot-part in a function...\n",
    "def solve_fox_rabbit(x0=10, y0=1/2, \n",
    "                     alpha=1, beta=0.1, delta=0.075, gamma=1.5):\n",
    "\n",
    "    coeffs = Coeffs(alpha=alpha, beta=beta, delta=delta, gamma=gamma)\n",
    "\n",
    "    X0 = np.array([x0, y0])\n",
    "    t = np.linspace(0, 15, 300)\n",
    "    X = odeint(dX_dt, X0, t, args=(coeffs, ))\n",
    "    x, y = X.T\n",
    "\n",
    "    fig, ax = plt.subplots(figsize=(10, 5))\n",
    "    ax.plot(t, x, color='green', label='x (prey, rabbits)')\n",
    "    ax.plot(t, y, color='blue', label='y (predator, foxes)')\n",
    "    ax.set_ylim([0, 50])\n",
    "    ax.set_xlabel('t (time)')\n",
    "    ax.set_ylabel('X (population)')\n",
    "    ax.legend()\n",
    "    plt.show(fig)\n",
    "    return fig, ax"
   ]
  },
  {
   "cell_type": "code",
   "execution_count": 7,
   "metadata": {
    "collapsed": false,
    "deletable": true,
    "editable": true,
    "scrolled": false,
    "slideshow": {
     "slide_type": "subslide"
    }
   },
   "outputs": [
    {
     "data": {
      "application/vnd.jupyter.widget-view+json": {
       "model_id": "1b9a066f0e4b43e4817b777f828b98e0"
      }
     },
     "metadata": {},
     "output_type": "display_data"
    }
   ],
   "source": [
    "%matplotlib inline\n",
    "# ...to obtain an interactive plot\n",
    "w = interactive(solve_fox_rabbit, \n",
    "                x0=(0.1, 20), y0=(0.1, 3), \n",
    "                alpha=(0., 5), beta=(0.01, 2), \n",
    "                delta=(0.01, 1), gamma=(0.1, 2))\n",
    "display(w)\n",
    "# note: you do not see the widgets when the notebook is converted to html"
   ]
  },
  {
   "cell_type": "markdown",
   "metadata": {
    "deletable": true,
    "editable": true,
    "slideshow": {
     "slide_type": "skip"
    }
   },
   "source": [
    "#### Kommentare\n",
    "- Siehe auch [Lotka-Volterra-Tutorial](https://scipy.github.io/old-wiki/pages/Cookbook/LoktaVolterraTutorial)."
   ]
  }
 ],
 "metadata": {
  "anaconda-cloud": {},
  "hide_input": false,
  "kernelspec": {
   "display_name": "Python 3",
   "language": "python",
   "name": "python3"
  },
  "language_info": {
   "codemirror_mode": {
    "name": "ipython",
    "version": 3
   },
   "file_extension": ".py",
   "mimetype": "text/x-python",
   "name": "python",
   "nbconvert_exporter": "python",
   "pygments_lexer": "ipython3",
   "version": "3.5.2"
  },
  "widgets": {
   "state": {
    "7c01e53e45cc4e36a87819633cf10af9": {
     "views": [
      {
       "cell_index": 12
      }
     ]
    }
   },
   "version": "1.2.0"
  }
 },
 "nbformat": 4,
 "nbformat_minor": 0
}
