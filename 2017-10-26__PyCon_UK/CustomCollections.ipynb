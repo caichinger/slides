{
 "cells": [
  {
   "cell_type": "code",
   "execution_count": 1,
   "metadata": {
    "collapsed": true,
    "deletable": true,
    "editable": true,
    "slideshow": {
     "slide_type": "skip"
    }
   },
   "outputs": [],
   "source": [
    "import IPython\n",
    "\n",
    "urls = {'collections': 'https://docs.python.org/3/library/collections.html'}\n",
    "\n",
    "def display_docs(key):\n",
    "    url = urls[key]\n",
    "    iframe = '<iframe src=' + url + ' width=1100 height=1000></iframe>'\n",
    "    return IPython.display.HTML(iframe)"
   ]
  },
  {
   "cell_type": "markdown",
   "metadata": {
    "deletable": true,
    "editable": true,
    "slideshow": {
     "slide_type": "slide"
    }
   },
   "source": [
    "<center>\n",
    "  <header>\n",
    "    <h1>Implementing Custom Containers</h1>\n",
    "    <h3>No, not Docker, Python collections!</h3>\n",
    "  </header>\n",
    "\n",
    "<br>\n",
    "<br>\n",
    "claus.aichinger@gmail.com\n",
    "<br>\n",
    "PyCon UK, 2017-10-26\n",
    "</center>"
   ]
  },
  {
   "cell_type": "markdown",
   "metadata": {
    "deletable": true,
    "editable": true,
    "slideshow": {
     "slide_type": "slide"
    }
   },
   "source": [
    "### Why are we talking about Containers/Collections?\n",
    "\n",
    "In general:\n",
    "- Container/Collections are essential part of every program\n",
    "- Data structures greatly influence design\n",
    "\n",
    "In this talk:\n",
    "- How do I represent my data? (Wrap it in a custom class?)\n",
    "- How do I implement a custom class mimicking a built-in type? (Implement interface?)\n",
    "\n",
    "Aim:\n",
    "- Simple approaches, i.e. the next non-trivial step after using a built-in.\n",
    "- No meta programming."
   ]
  },
  {
   "cell_type": "markdown",
   "metadata": {
    "deletable": true,
    "editable": true,
    "slideshow": {
     "slide_type": "slide"
    }
   },
   "source": [
    "### Contents\n",
    "\n",
    "In short:\n",
    "- Loads of **double underscore aka dunder methods**"
   ]
  },
  {
   "cell_type": "markdown",
   "metadata": {
    "deletable": true,
    "editable": true,
    "slideshow": {
     "slide_type": "fragment"
    }
   },
   "source": [
    "In detail:\n",
    "\n",
    "- What is a Container/Collection?"
   ]
  },
  {
   "cell_type": "markdown",
   "metadata": {
    "deletable": true,
    "editable": true,
    "slideshow": {
     "slide_type": "fragment"
    }
   },
   "source": [
    "- Customization (by examples):\n",
    "  - Data Representation  \n",
    "  - Mimicking built-ins"
   ]
  },
  {
   "cell_type": "markdown",
   "metadata": {
    "deletable": true,
    "editable": true,
    "slideshow": {
     "slide_type": "slide"
    }
   },
   "source": [
    "### What is a Container/Collection?\n",
    "\n",
    "- Container: an object that holds other objects.\n",
    "- Collection: a sized, iterable container"
   ]
  },
  {
   "cell_type": "code",
   "execution_count": 2,
   "metadata": {
    "collapsed": true,
    "deletable": true,
    "editable": true,
    "slideshow": {
     "slide_type": "fragment"
    }
   },
   "outputs": [],
   "source": [
    "# more precisely\n",
    "def is_container(something):\n",
    "    return hasattr(something, '__contains__')       # allows you to do: item in something\n",
    "\n",
    "def is_collection(something):\n",
    "    return (hasattr(something, '__contains__') and \n",
    "            hasattr(something, '__iter__') and      # for item in something: ...\n",
    "            hasattr(something, '__len__'))          #  len(something)"
   ]
  },
  {
   "cell_type": "code",
   "execution_count": 3,
   "metadata": {
    "collapsed": true,
    "deletable": true,
    "editable": true,
    "slideshow": {
     "slide_type": "subslide"
    }
   },
   "outputs": [],
   "source": [
    "# or rather (this is better):\n",
    "from collections.abc import Container\n",
    "from collections.abc import Collection  # <-- Python 3.6\n",
    "\n",
    "def is_container(something):\n",
    "    return isinstance(something, Container)\n",
    "\n",
    "def is_collection(something):\n",
    "    return isinstance(something, Collection)"
   ]
  },
  {
   "cell_type": "code",
   "execution_count": 4,
   "metadata": {
    "collapsed": false,
    "deletable": true,
    "editable": true,
    "slideshow": {
     "slide_type": "fragment"
    }
   },
   "outputs": [
    {
     "data": {
      "text/plain": [
       "(True, True, True, True)"
      ]
     },
     "execution_count": 4,
     "metadata": {},
     "output_type": "execute_result"
    }
   ],
   "source": [
    "# built-in Collections (and therefore Containers)\n",
    "(is_collection(tuple()), is_collection(list()), \n",
    " is_collection(set()), is_collection(dict()))"
   ]
  },
  {
   "cell_type": "code",
   "execution_count": 5,
   "metadata": {
    "collapsed": false,
    "deletable": true,
    "editable": true,
    "slideshow": {
     "slide_type": "fragment"
    }
   },
   "outputs": [
    {
     "data": {
      "text/plain": [
       "True"
      ]
     },
     "execution_count": 5,
     "metadata": {},
     "output_type": "execute_result"
    }
   ],
   "source": [
    "# strings are Collections as well\n",
    "is_collection('Hi Pythonistas')"
   ]
  },
  {
   "cell_type": "code",
   "execution_count": 6,
   "metadata": {
    "collapsed": false,
    "deletable": true,
    "editable": true,
    "slideshow": {
     "slide_type": "fragment"
    }
   },
   "outputs": [
    {
     "data": {
      "text/plain": [
       "(False, False, False)"
      ]
     },
     "execution_count": 6,
     "metadata": {},
     "output_type": "execute_result"
    }
   ],
   "source": [
    "# things that do not support the Collection protocol\n",
    "is_container(42), is_container(3.14159), is_container(None)\n",
    "# neither are module or file object, ..."
   ]
  },
  {
   "cell_type": "markdown",
   "metadata": {
    "deletable": true,
    "editable": true,
    "slideshow": {
     "slide_type": "subslide"
    }
   },
   "source": [
    "### Take a look at the collections module!"
   ]
  },
  {
   "cell_type": "code",
   "execution_count": 7,
   "metadata": {
    "collapsed": false,
    "deletable": true,
    "editable": true,
    "slideshow": {
     "slide_type": "fragment"
    }
   },
   "outputs": [
    {
     "data": {
      "text/html": [
       "<iframe src=https://docs.python.org/3/library/collections.html width=1100 height=1000></iframe>"
      ],
      "text/plain": [
       "<IPython.core.display.HTML object>"
      ]
     },
     "execution_count": 7,
     "metadata": {},
     "output_type": "execute_result"
    }
   ],
   "source": [
    "display_docs('collections')  # additional containers"
   ]
  },
  {
   "cell_type": "markdown",
   "metadata": {
    "deletable": true,
    "editable": true,
    "slideshow": {
     "slide_type": "slide"
    }
   },
   "source": [
    "## Customization I (Data Representation)\n",
    "\n",
    "### Example\n",
    "Simple data record:"
   ]
  },
  {
   "cell_type": "code",
   "execution_count": 8,
   "metadata": {
    "collapsed": false,
    "deletable": true,
    "editable": true,
    "slideshow": {
     "slide_type": "-"
    }
   },
   "outputs": [
    {
     "data": {
      "text/plain": [
       "('Zhang', 'Wei', 58, 70.1)"
      ]
     },
     "execution_count": 8,
     "metadata": {},
     "output_type": "execute_result"
    }
   ],
   "source": [
    "participant = ('Zhang', 'Wei', 58, 70.1)\n",
    "participant"
   ]
  },
  {
   "cell_type": "markdown",
   "metadata": {
    "deletable": true,
    "editable": true,
    "slideshow": {
     "slide_type": "fragment"
    }
   },
   "source": [
    "**Pro**\n",
    "- `tuple()` is a good choice\n",
    "  - immutable\n",
    "  - memory efficient due to **`__slots__`**"
   ]
  },
  {
   "cell_type": "markdown",
   "metadata": {
    "deletable": true,
    "editable": true,
    "slideshow": {
     "slide_type": "subslide"
    }
   },
   "source": [
    "**Con**\n",
    "- What is this data set about?\n",
    "- Any assertions about the data? If so, who is responsible?\n",
    "\n",
    "![participant.png](participant.png)\n",
    "\n",
    "---\n",
    "\n",
    "**You Ain't Gonna Need It** vs. `tuple()` seems a bit too primitive"
   ]
  },
  {
   "cell_type": "markdown",
   "metadata": {
    "deletable": true,
    "editable": true,
    "slideshow": {
     "slide_type": "subslide"
    }
   },
   "source": [
    "#### 1st Iteration: Add Explanation\n",
    "\n",
    "*a container should be self explaining*\n",
    "\n",
    "Use:\n",
    "- **`__repr__`** (how it is displayed in the prompt)\n",
    "- **`__str__`** (string representation)\n",
    "\n",
    "---\n",
    "\n",
    "Let's turn participant into a custimizeable class using **`collections.namedtuple`**"
   ]
  },
  {
   "cell_type": "code",
   "execution_count": 9,
   "metadata": {
    "collapsed": false,
    "deletable": true,
    "editable": true,
    "slideshow": {
     "slide_type": "fragment"
    }
   },
   "outputs": [
    {
     "data": {
      "text/plain": [
       "Participant(given_name='Wei', family_name='Zhang', age=58, weight=70.1)"
      ]
     },
     "execution_count": 9,
     "metadata": {},
     "output_type": "execute_result"
    }
   ],
   "source": [
    "from collections import namedtuple\n",
    "\n",
    "Participant = namedtuple('Participant', 'given_name, family_name, age, weight')\n",
    "participant = Participant('Wei', 'Zhang', 58, 70.1)\n",
    "participant"
   ]
  },
  {
   "cell_type": "code",
   "execution_count": 10,
   "metadata": {
    "collapsed": true,
    "deletable": true,
    "editable": true,
    "slideshow": {
     "slide_type": "fragment"
    }
   },
   "outputs": [],
   "source": [
    "# help(participant) is still useless"
   ]
  },
  {
   "cell_type": "markdown",
   "metadata": {
    "deletable": true,
    "editable": true,
    "slideshow": {
     "slide_type": "subslide"
    }
   },
   "source": [
    "#### 2nd Iteration: Add Documentation\n",
    "\n",
    "*Docs or it didn't happen - ask Mikey ;)*\n",
    "\n",
    "Use:\n",
    "- **`__doc__`**"
   ]
  },
  {
   "cell_type": "code",
   "execution_count": 11,
   "metadata": {
    "collapsed": true,
    "deletable": true,
    "editable": true,
    "slideshow": {
     "slide_type": "fragment"
    }
   },
   "outputs": [],
   "source": [
    "Participant.__doc__ = \"Record class representing participants\"\n",
    "Participant.given_name.__doc__ = \"Participant's given name\"\n",
    "Participant.family_name.__doc__ = \"Participant's family name\"\n",
    "Participant.age.__doc__ = \"Participant's age in years\"\n",
    "Participant.weight.__doc__ = \"Participant's age in kg\"\n",
    "# Docs: Changed in version 3.5: Property docstrings became writeable."
   ]
  },
  {
   "cell_type": "markdown",
   "metadata": {
    "deletable": true,
    "editable": true,
    "slideshow": {
     "slide_type": "subslide"
    }
   },
   "source": [
    "#### 3rd Iteration: Support Default Values\n",
    "\n",
    "Use:\n",
    "- **`__new__.__defaults__`**  (recall that tuples are immutable, `__init__` won't help, we need `__new__`)"
   ]
  },
  {
   "cell_type": "code",
   "execution_count": 12,
   "metadata": {
    "collapsed": true,
    "deletable": true,
    "editable": true,
    "slideshow": {
     "slide_type": "fragment"
    }
   },
   "outputs": [],
   "source": [
    "ParticipantWithDefaults = namedtuple('Participant', \n",
    "                                     'family_name, given_name, age, weight')\n",
    "ParticipantWithDefaults.__new__.__defaults__ = (None, None, -1, -1)"
   ]
  },
  {
   "cell_type": "code",
   "execution_count": 13,
   "metadata": {
    "collapsed": false,
    "deletable": true,
    "editable": true,
    "slideshow": {
     "slide_type": "fragment"
    }
   },
   "outputs": [
    {
     "data": {
      "text/plain": [
       "Participant(family_name=None, given_name='Wei', age=17, weight=-1)"
      ]
     },
     "execution_count": 13,
     "metadata": {},
     "output_type": "execute_result"
    }
   ],
   "source": [
    "participant = ParticipantWithDefaults(given_name='Wei', age=17)\n",
    "participant"
   ]
  },
  {
   "cell_type": "markdown",
   "metadata": {
    "deletable": true,
    "editable": true,
    "slideshow": {
     "slide_type": "subslide"
    }
   },
   "source": [
    "#### 4th Iteration: Perform Input Validation\n",
    "\n",
    "Use:\n",
    "- **`__new__`**"
   ]
  },
  {
   "cell_type": "code",
   "execution_count": 14,
   "metadata": {
    "collapsed": true,
    "deletable": true,
    "editable": true,
    "slideshow": {
     "slide_type": "fragment"
    }
   },
   "outputs": [],
   "source": [
    "class ParticipantWithInputValidationAndDefaults(ParticipantWithDefaults):\n",
    "    \n",
    "    def __new__(cls, *args, **kwargs):\n",
    "\n",
    "        args_kwargs = dict(zip(Participant._fields, args))\n",
    "        args_kwargs.update(kwargs)  # we are lazy here\n",
    "        \n",
    "        # validate 'age'\n",
    "        if args_kwargs['age'] <= 18:\n",
    "            raise ValueError('age={} but needs to be > 18'.format(args_kwargs['age']))\n",
    "\n",
    "        self = super(ParticipantWithInputValidationAndDefaults, cls).__new__(cls, **args_kwargs)\n",
    "        return self"
   ]
  },
  {
   "cell_type": "code",
   "execution_count": 15,
   "metadata": {
    "collapsed": false,
    "deletable": true,
    "editable": true,
    "slideshow": {
     "slide_type": "subslide"
    }
   },
   "outputs": [
    {
     "ename": "ValueError",
     "evalue": "age=17 but needs to be > 18",
     "output_type": "error",
     "traceback": [
      "\u001b[0;31m---------------------------------------------------------------------------\u001b[0m",
      "\u001b[0;31mValueError\u001b[0m                                Traceback (most recent call last)",
      "\u001b[0;32m<ipython-input-15-abe214873454>\u001b[0m in \u001b[0;36m<module>\u001b[0;34m()\u001b[0m\n\u001b[0;32m----> 1\u001b[0;31m \u001b[0mParticipantWithInputValidationAndDefaults\u001b[0m\u001b[0;34m(\u001b[0m\u001b[0mgiven_name\u001b[0m\u001b[0;34m=\u001b[0m\u001b[0;34m'Wei'\u001b[0m\u001b[0;34m,\u001b[0m \u001b[0mage\u001b[0m\u001b[0;34m=\u001b[0m\u001b[0;36m17\u001b[0m\u001b[0;34m)\u001b[0m\u001b[0;34m\u001b[0m\u001b[0m\n\u001b[0m",
      "\u001b[0;32m<ipython-input-14-fca4e0021ded>\u001b[0m in \u001b[0;36m__new__\u001b[0;34m(cls, *args, **kwargs)\u001b[0m\n\u001b[1;32m      8\u001b[0m         \u001b[0;31m# validate 'age'\u001b[0m\u001b[0;34m\u001b[0m\u001b[0;34m\u001b[0m\u001b[0m\n\u001b[1;32m      9\u001b[0m         \u001b[0;32mif\u001b[0m \u001b[0margs_kwargs\u001b[0m\u001b[0;34m[\u001b[0m\u001b[0;34m'age'\u001b[0m\u001b[0;34m]\u001b[0m \u001b[0;34m<=\u001b[0m \u001b[0;36m18\u001b[0m\u001b[0;34m:\u001b[0m\u001b[0;34m\u001b[0m\u001b[0m\n\u001b[0;32m---> 10\u001b[0;31m             \u001b[0;32mraise\u001b[0m \u001b[0mValueError\u001b[0m\u001b[0;34m(\u001b[0m\u001b[0;34m'age={} but needs to be > 18'\u001b[0m\u001b[0;34m.\u001b[0m\u001b[0mformat\u001b[0m\u001b[0;34m(\u001b[0m\u001b[0margs_kwargs\u001b[0m\u001b[0;34m[\u001b[0m\u001b[0;34m'age'\u001b[0m\u001b[0;34m]\u001b[0m\u001b[0;34m)\u001b[0m\u001b[0;34m)\u001b[0m\u001b[0;34m\u001b[0m\u001b[0m\n\u001b[0m\u001b[1;32m     11\u001b[0m \u001b[0;34m\u001b[0m\u001b[0m\n\u001b[1;32m     12\u001b[0m         \u001b[0mself\u001b[0m \u001b[0;34m=\u001b[0m \u001b[0msuper\u001b[0m\u001b[0;34m(\u001b[0m\u001b[0mParticipantWithInputValidationAndDefaults\u001b[0m\u001b[0;34m,\u001b[0m \u001b[0mcls\u001b[0m\u001b[0;34m)\u001b[0m\u001b[0;34m.\u001b[0m\u001b[0m__new__\u001b[0m\u001b[0;34m(\u001b[0m\u001b[0mcls\u001b[0m\u001b[0;34m,\u001b[0m \u001b[0;34m**\u001b[0m\u001b[0margs_kwargs\u001b[0m\u001b[0;34m)\u001b[0m\u001b[0;34m\u001b[0m\u001b[0m\n",
      "\u001b[0;31mValueError\u001b[0m: age=17 but needs to be > 18"
     ]
    }
   ],
   "source": [
    "ParticipantWithInputValidationAndDefaults(given_name='Wei', age=17)"
   ]
  },
  {
   "cell_type": "code",
   "execution_count": 16,
   "metadata": {
    "collapsed": false,
    "deletable": true,
    "editable": true,
    "slideshow": {
     "slide_type": "fragment"
    }
   },
   "outputs": [
    {
     "data": {
      "text/plain": [
       "ParticipantWithInputValidationAndDefaults(family_name=None, given_name='Wei', age=52, weight=-1)"
      ]
     },
     "execution_count": 16,
     "metadata": {},
     "output_type": "execute_result"
    }
   ],
   "source": [
    "ParticipantWithInputValidationAndDefaults(given_name='Wei', age=52)"
   ]
  },
  {
   "cell_type": "markdown",
   "metadata": {
    "deletable": true,
    "editable": true,
    "slideshow": {
     "slide_type": "subslide"
    }
   },
   "source": [
    "### Summary (Data Representation)\n",
    "\n",
    "- Default container may bee too primitive and limit flexibility.\n",
    "\n",
    "\n",
    "- Custom containers open the door to\n",
    "  - additional functionality when needed\n",
    "  - default arguments and **input validation**\n",
    "  - **type hints & static type checking** (via MyPy)\n",
    "\n",
    "\n",
    "- Provide at least `__repr__`, `__str__` and `__doc__`.\n",
    "\n",
    "\n",
    "- **`namedtuple`** may be a good starting point for a shallow structure.\n",
    "\n",
    "---\n",
    "\n",
    "Take a look at **[attrs: Classes Without Boilerplate](http://www.attrs.org/)**"
   ]
  },
  {
   "cell_type": "markdown",
   "metadata": {
    "deletable": true,
    "editable": true,
    "slideshow": {
     "slide_type": "slide"
    }
   },
   "source": [
    "## Customization II (Mimicking Built-Ins)\n",
    "\n",
    "Basically\n",
    "\n",
    "```Python \n",
    "from collections.abc import SuitableCollection\n",
    "\n",
    "class MyCollection(SuitableCollection):\n",
    "    ...\n",
    "```"
   ]
  },
  {
   "cell_type": "markdown",
   "metadata": {
    "deletable": true,
    "editable": true,
    "slideshow": {
     "slide_type": "subslide"
    }
   },
   "source": [
    "### Example\n",
    "Data processing task:\n",
    "\n",
    "```Python\n",
    "\n",
    "# Could look like so:\n",
    "def extract_all_answers(df):\n",
    "    \"\"\"Cool Stuff ¯\\_(ツ)_/¯\"\"\"\n",
    "    return 42 * df\n",
    "\n",
    "# Iteration/Application:\n",
    "for path in glob('*.csv'):\n",
    "    df_in = pd.read_csv(path)\n",
    "    df_out = function(df_in)\n",
    "    path_processed = path.replace('.csv', '_processed.csv')\n",
    "    df_out.to_csv(path_processed)\n",
    "```"
   ]
  },
  {
   "cell_type": "markdown",
   "metadata": {
    "deletable": true,
    "editable": true,
    "slideshow": {
     "slide_type": "fragment"
    }
   },
   "source": [
    "**Pro**\n",
    "- Obvious what is going on"
   ]
  },
  {
   "cell_type": "code",
   "execution_count": 17,
   "metadata": {
    "collapsed": true,
    "deletable": true,
    "editable": true,
    "slideshow": {
     "slide_type": "skip"
    }
   },
   "outputs": [],
   "source": [
    "import pandas as pd\n",
    "from glob import glob\n",
    "\n",
    "# Could look like so:\n",
    "def extract_all_answers(df):\n",
    "    \"\"\"Cool Stuff ¯\\_(ツ)_/¯\"\"\"\n",
    "    return 42 * df"
   ]
  },
  {
   "cell_type": "markdown",
   "metadata": {
    "deletable": true,
    "editable": true,
    "slideshow": {
     "slide_type": "subslide"
    }
   },
   "source": [
    "**Con**\n",
    "- File handling and iteration should be separated from processing\n",
    "- Both tasks could be pretty complex, better treat in isolation\n",
    "\n",
    "---\n",
    "\n",
    "![data_mapping.png](data_mapping.png)\n",
    "\n",
    "---\n",
    "\n",
    "We want:\n",
    "- read (get) data, write (set) data, iterate over data\n",
    "- a mapping between input and output (and the related files)\n",
    "\n",
    "---\n",
    "\n",
    "Let's implement this behaviour using **`collections.abc.MutableMapping`**."
   ]
  },
  {
   "cell_type": "code",
   "execution_count": 18,
   "metadata": {
    "collapsed": false,
    "deletable": true,
    "editable": true,
    "slideshow": {
     "slide_type": "subslide"
    }
   },
   "outputs": [
    {
     "ename": "TypeError",
     "evalue": "Can't instantiate abstract class DataMapping with abstract methods __delitem__, __getitem__, __iter__, __len__, __setitem__",
     "output_type": "error",
     "traceback": [
      "\u001b[0;31m---------------------------------------------------------------------------\u001b[0m",
      "\u001b[0;31mTypeError\u001b[0m                                 Traceback (most recent call last)",
      "\u001b[0;32m<ipython-input-18-e94c3f8f3348>\u001b[0m in \u001b[0;36m<module>\u001b[0;34m()\u001b[0m\n\u001b[1;32m      4\u001b[0m     \u001b[0;32mpass\u001b[0m\u001b[0;34m\u001b[0m\u001b[0m\n\u001b[1;32m      5\u001b[0m \u001b[0;34m\u001b[0m\u001b[0m\n\u001b[0;32m----> 6\u001b[0;31m \u001b[0mdm\u001b[0m \u001b[0;34m=\u001b[0m \u001b[0mDataMapping\u001b[0m\u001b[0;34m(\u001b[0m\u001b[0;34m)\u001b[0m\u001b[0;34m\u001b[0m\u001b[0m\n\u001b[0m",
      "\u001b[0;31mTypeError\u001b[0m: Can't instantiate abstract class DataMapping with abstract methods __delitem__, __getitem__, __iter__, __len__, __setitem__"
     ]
    }
   ],
   "source": [
    "from collections.abc import MutableMapping\n",
    "\n",
    "class DataMapping(MutableMapping):\n",
    "    pass\n",
    "\n",
    "dm = DataMapping()"
   ]
  },
  {
   "cell_type": "code",
   "execution_count": 19,
   "metadata": {
    "collapsed": true,
    "deletable": true,
    "editable": true,
    "slideshow": {
     "slide_type": "subslide"
    }
   },
   "outputs": [],
   "source": [
    "from glob import glob\n",
    "import os\n",
    "import pandas as pd\n",
    "\n",
    "def key_from_path(path):\n",
    "    return os.path.splitext(os.path.basename(path))[0]\n",
    "\n",
    "class DataMapping(MutableMapping):\n",
    "    \n",
    "    def __init__(self, pattern):\n",
    "        self.pattern = pattern\n",
    "        # establish in-out-path mappings (to be delegated)\n",
    "        self.get_paths = {key_from_path(path): path \n",
    "                          for path in glob(pattern)}\n",
    "        self.set_paths = {key: path.replace('data_in', 'data_out') \n",
    "                          for key, path in self.get_paths.items()}\n",
    "    \n",
    "    def __getitem__(self, key):\n",
    "        return pd.read_csv(self.get_paths[key])  # to be delegated\n",
    "    \n",
    "    def __setitem__(self, key, value):\n",
    "        value.to_csv(self.set_paths[key])  # to be delegated\n",
    "        return self\n",
    "\n",
    "    def __iter__(self):\n",
    "        return iter(self.get_paths)\n",
    "                          \n",
    "    def __len__(self):\n",
    "        return len(self.get_paths)\n",
    "                          \n",
    "    def __delitem__(self, key):\n",
    "        raise AttributeError('{} does not support item '\n",
    "                             'deletion'.format(self.__class__.__name__))       "
   ]
  },
  {
   "cell_type": "code",
   "execution_count": 20,
   "metadata": {
    "collapsed": false,
    "deletable": true,
    "editable": true,
    "slideshow": {
     "slide_type": "subslide"
    }
   },
   "outputs": [
    {
     "name": "stdout",
     "output_type": "stream",
     "text": [
      "a :\n",
      "    value\n",
      "0      1\n",
      "1      2 \n",
      "\n",
      "b :\n",
      "    value\n",
      "0      1\n",
      "1      2 \n",
      "\n"
     ]
    }
   ],
   "source": [
    "dm = DataMapping('./data/data_in/*.csv')\n",
    "for key, value in dm.items():\n",
    "    print(key, ':\\n', value, '\\n')"
   ]
  },
  {
   "cell_type": "code",
   "execution_count": 21,
   "metadata": {
    "collapsed": true,
    "deletable": true,
    "editable": true,
    "slideshow": {
     "slide_type": "subslide"
    }
   },
   "outputs": [],
   "source": [
    "for key, df in dm.items():\n",
    "    dm[key] = extract_all_answers(df)"
   ]
  },
  {
   "cell_type": "code",
   "execution_count": 22,
   "metadata": {
    "collapsed": false,
    "deletable": true,
    "editable": true,
    "slideshow": {
     "slide_type": "fragment"
    }
   },
   "outputs": [
    {
     "name": "stdout",
     "output_type": "stream",
     "text": [
      "a.csv  b.csv\r\n"
     ]
    }
   ],
   "source": [
    "ls data/data_out"
   ]
  },
  {
   "cell_type": "code",
   "execution_count": 23,
   "metadata": {
    "collapsed": false,
    "deletable": true,
    "editable": true,
    "slideshow": {
     "slide_type": "fragment"
    }
   },
   "outputs": [
    {
     "name": "stdout",
     "output_type": "stream",
     "text": [
      ",value\r\n",
      "0,42\r\n",
      "1,84\r\n"
     ]
    }
   ],
   "source": [
    "!cat data/data_out/a.csv"
   ]
  },
  {
   "cell_type": "markdown",
   "metadata": {
    "deletable": true,
    "editable": true,
    "slideshow": {
     "slide_type": "subslide"
    }
   },
   "source": [
    "### Summary (Mimicking Built-Ins)\n",
    "\n",
    "- Mimic behavior by inheriting from suitable ABC\n",
    "\n",
    "\n",
    "- Related methods are derived from base methods\n",
    "\n",
    "\n",
    "- Direct implementation may be more efficient\n",
    "\n",
    "\n",
    "- Directly subclassing a built-in can be tricky, you may consider `userlist` or `userdict`\n",
    "\n",
    "\n",
    "- In general: often sensible to test against interface instead of type"
   ]
  },
  {
   "cell_type": "markdown",
   "metadata": {
    "deletable": true,
    "editable": true,
    "slideshow": {
     "slide_type": "slide"
    }
   },
   "source": [
    "<center>\n",
    "  <header>\n",
    "    <h1>Implementing Custom Containers</h1>\n",
    "    <h3>No, not Docker, Python collections!</h3>\n",
    "  </header>\n",
    "  <br/>\n",
    "  <header>\n",
    "    <h1>Thank you! Q&A?</h1>\n",
    "  </header>\n",
    "\n",
    "<br>\n",
    "<br>\n",
    "claus.aichinger@gmail.com\n",
    "<br>\n",
    "PyCon UK, 2017-10-26\n",
    "</center>"
   ]
  }
 ],
 "metadata": {
  "celltoolbar": "Slideshow",
  "hide_input": false,
  "kernelspec": {
   "display_name": "Python 3",
   "language": "python",
   "name": "python3"
  },
  "language_info": {
   "codemirror_mode": {
    "name": "ipython",
    "version": 3
   },
   "file_extension": ".py",
   "mimetype": "text/x-python",
   "name": "python",
   "nbconvert_exporter": "python",
   "pygments_lexer": "ipython3",
   "version": "3.5.2"
  }
 },
 "nbformat": 4,
 "nbformat_minor": 2
}
